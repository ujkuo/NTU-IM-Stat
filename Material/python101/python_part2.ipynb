{
 "cells": [
  {
   "cell_type": "markdown",
   "metadata": {},
   "source": [
    "# Python Part 2\n",
    "## List (串列)、Tuple(元組)、Set (集合)\n",
    "\n",
    "List、tuple、跟set是Python中三個常用的資料結構。以下依序介紹。"
   ]
  },
  {
   "cell_type": "markdown",
   "metadata": {},
   "source": [
    "## List (串列)"
   ]
  },
  {
   "cell_type": "markdown",
   "metadata": {},
   "source": [
    "Python中的List中包含一個或多個元素，而且這些元素可以是不同的資料型別。\n",
    "\n",
    "舉例而言，我們建立一個名叫a1的List，裡面有三個元素，分別是整數3, 4, 跟5:"
   ]
  },
  {
   "cell_type": "code",
   "execution_count": 1,
   "metadata": {},
   "outputs": [
    {
     "data": {
      "text/plain": [
       "[3, 4, 5]"
      ]
     },
     "execution_count": 1,
     "metadata": {},
     "output_type": "execute_result"
    }
   ],
   "source": [
    "a1 = [3, 4, 5]\n",
    "a1"
   ]
  },
  {
   "cell_type": "markdown",
   "metadata": {},
   "source": [
    "注意我們使用方括號來創建List。\n",
    "\n",
    "List中的元素可以是不型別，例如:"
   ]
  },
  {
   "cell_type": "code",
   "execution_count": 2,
   "metadata": {},
   "outputs": [
    {
     "data": {
      "text/plain": [
       "[3, 'four', 5, 6]"
      ]
     },
     "execution_count": 2,
     "metadata": {},
     "output_type": "execute_result"
    }
   ],
   "source": [
    "a2 = [3, \"four\", 5, 6]\n",
    "a2"
   ]
  },
  {
   "cell_type": "markdown",
   "metadata": {},
   "source": [
    "一個List甚至可以包含其他的List，如:"
   ]
  },
  {
   "cell_type": "code",
   "execution_count": 3,
   "metadata": {},
   "outputs": [
    {
     "data": {
      "text/plain": [
       "[3, [4, 5, 6], 'seven', 8.8]"
      ]
     },
     "execution_count": 3,
     "metadata": {},
     "output_type": "execute_result"
    }
   ],
   "source": [
    "a3 = [3, [4, 5, 6], \"seven\", 8.8]\n",
    "a3"
   ]
  },
  {
   "cell_type": "markdown",
   "metadata": {},
   "source": [
    "### len(): List中的元素個數"
   ]
  },
  {
   "cell_type": "markdown",
   "metadata": {},
   "source": [
    "我們可以使用len()來計算List中的元素個數，如:"
   ]
  },
  {
   "cell_type": "code",
   "execution_count": 4,
   "metadata": {},
   "outputs": [
    {
     "data": {
      "text/plain": [
       "3"
      ]
     },
     "execution_count": 4,
     "metadata": {},
     "output_type": "execute_result"
    }
   ],
   "source": [
    "len(a1)"
   ]
  },
  {
   "cell_type": "code",
   "execution_count": 5,
   "metadata": {},
   "outputs": [
    {
     "data": {
      "text/plain": [
       "4"
      ]
     },
     "execution_count": 5,
     "metadata": {},
     "output_type": "execute_result"
    }
   ],
   "source": [
    "len(a2)"
   ]
  },
  {
   "cell_type": "code",
   "execution_count": 6,
   "metadata": {},
   "outputs": [
    {
     "data": {
      "text/plain": [
       "4"
      ]
     },
     "execution_count": 6,
     "metadata": {},
     "output_type": "execute_result"
    }
   ],
   "source": [
    "len(a3)"
   ]
  },
  {
   "cell_type": "markdown",
   "metadata": {},
   "source": [
    "注意a3中有四個元素。也就是a3中的List [4, 5, 6]算一個元素。"
   ]
  },
  {
   "cell_type": "markdown",
   "metadata": {},
   "source": [
    "### 動動手\n",
    "請問下面的List傳入len()中會得到什麼結果? 先想想再動手嘗試。\n",
    "1. ['a']\n",
    "2. [5, 5, 5]\n",
    "3. []\n",
    "4. [['a', 'b', 'c'], [6, 7.7], [288, 922, 123.5]]"
   ]
  },
  {
   "cell_type": "code",
   "execution_count": 7,
   "metadata": {},
   "outputs": [],
   "source": [
    "#在這裡嘗試你的作法\n",
    "\n",
    "\n",
    "\n",
    "\n",
    "\n",
    "\n",
    "\n"
   ]
  },
  {
   "cell_type": "code",
   "execution_count": 8,
   "metadata": {},
   "outputs": [
    {
     "name": "stdout",
     "output_type": "stream",
     "text": [
      "Case 1: 1\n",
      "Case 2: 3\n",
      "Case 3: 0\n",
      "Case 4: 3\n"
     ]
    }
   ],
   "source": [
    "#參考解答\n",
    "\n",
    "print(\"Case 1:\", len(['a']))\n",
    "print(\"Case 2:\", len([5, 5, 5]))\n",
    "print(\"Case 3:\", len([]))\n",
    "print(\"Case 4:\", len([['a', 'b', 'c'], [6, 7.7], [288, 922, 123.5]]))"
   ]
  },
  {
   "cell_type": "markdown",
   "metadata": {},
   "source": [
    "## List的索引\n",
    "\n",
    "我們可以取出一個List中的元素，這可以透過適當的索引達成。Python中索引直由0開始，也就是第一個元素編號0號。"
   ]
  },
  {
   "cell_type": "code",
   "execution_count": 9,
   "metadata": {},
   "outputs": [
    {
     "data": {
      "text/plain": [
       "['alpha', 'beta', '三號', '四號', '怪怪一', '怪怪二', '最後一號']"
      ]
     },
     "execution_count": 9,
     "metadata": {},
     "output_type": "execute_result"
    }
   ],
   "source": [
    "b1 = ['alpha', 'beta', '三號', '四號', \"怪怪一\", '怪怪二', '最後一號']\n",
    "b1"
   ]
  },
  {
   "cell_type": "markdown",
   "metadata": {},
   "source": [
    "我們取第零個、第一個、第二個元素:"
   ]
  },
  {
   "cell_type": "code",
   "execution_count": 10,
   "metadata": {},
   "outputs": [
    {
     "data": {
      "text/plain": [
       "'alpha'"
      ]
     },
     "execution_count": 10,
     "metadata": {},
     "output_type": "execute_result"
    }
   ],
   "source": [
    "b1[0]"
   ]
  },
  {
   "cell_type": "code",
   "execution_count": 11,
   "metadata": {},
   "outputs": [
    {
     "data": {
      "text/plain": [
       "'beta'"
      ]
     },
     "execution_count": 11,
     "metadata": {},
     "output_type": "execute_result"
    }
   ],
   "source": [
    "b1[1]"
   ]
  },
  {
   "cell_type": "code",
   "execution_count": 12,
   "metadata": {},
   "outputs": [
    {
     "data": {
      "text/plain": [
       "'三號'"
      ]
     },
     "execution_count": 12,
     "metadata": {},
     "output_type": "execute_result"
    }
   ],
   "source": [
    "b1[2]"
   ]
  },
  {
   "cell_type": "markdown",
   "metadata": {},
   "source": [
    "索引也可以由尾巴開始。倒數第一個索引-1，倒數第二個索引-2，依此類推:"
   ]
  },
  {
   "cell_type": "code",
   "execution_count": 13,
   "metadata": {},
   "outputs": [
    {
     "data": {
      "text/plain": [
       "'最後一號'"
      ]
     },
     "execution_count": 13,
     "metadata": {},
     "output_type": "execute_result"
    }
   ],
   "source": [
    "b1[-1]"
   ]
  },
  {
   "cell_type": "code",
   "execution_count": 14,
   "metadata": {},
   "outputs": [
    {
     "data": {
      "text/plain": [
       "'怪怪二'"
      ]
     },
     "execution_count": 14,
     "metadata": {},
     "output_type": "execute_result"
    }
   ],
   "source": [
    "b1[-2]"
   ]
  },
  {
   "cell_type": "code",
   "execution_count": 15,
   "metadata": {},
   "outputs": [
    {
     "data": {
      "text/plain": [
       "'怪怪一'"
      ]
     },
     "execution_count": 15,
     "metadata": {},
     "output_type": "execute_result"
    }
   ],
   "source": [
    "b1[-3]"
   ]
  },
  {
   "cell_type": "markdown",
   "metadata": {},
   "source": [
    "## List的切片\n",
    "\n",
    "我們可以透過切片取出一個List中的連續元素，比如說，要取出b1中的第0個到第2個:"
   ]
  },
  {
   "cell_type": "code",
   "execution_count": 16,
   "metadata": {},
   "outputs": [
    {
     "data": {
      "text/plain": [
       "['alpha', 'beta', '三號']"
      ]
     },
     "execution_count": 16,
     "metadata": {},
     "output_type": "execute_result"
    }
   ],
   "source": [
    "b1[0:3]"
   ]
  },
  {
   "cell_type": "markdown",
   "metadata": {},
   "source": [
    "注意我們用\":\"分隔起始與結束的索引。而結束的索引是不包含該位置。這是Python中的慣例。\n",
    "這件事簡單的說叫\"**有頭無尾**\"。\n",
    "習慣了這個規則後才能體會這個規則的好...\n",
    "\n",
    "我們來看看另一個例子。下面的例子是由倒數第三個取到最後一個。"
   ]
  },
  {
   "cell_type": "code",
   "execution_count": 17,
   "metadata": {},
   "outputs": [
    {
     "data": {
      "text/plain": [
       "['怪怪一', '怪怪二', '最後一號']"
      ]
     },
     "execution_count": 17,
     "metadata": {},
     "output_type": "execute_result"
    }
   ],
   "source": [
    "b1[-3:]"
   ]
  },
  {
   "cell_type": "markdown",
   "metadata": {},
   "source": [
    "### 修改、新增、與刪除List中的元素"
   ]
  },
  {
   "cell_type": "markdown",
   "metadata": {},
   "source": [
    "我們可以利用索引定位某個元素之後，修改這個位置的元素。例如:"
   ]
  },
  {
   "cell_type": "code",
   "execution_count": 18,
   "metadata": {},
   "outputs": [
    {
     "data": {
      "text/plain": [
       "'四號'"
      ]
     },
     "execution_count": 18,
     "metadata": {},
     "output_type": "execute_result"
    }
   ],
   "source": [
    "b1[3]"
   ]
  },
  {
   "cell_type": "code",
   "execution_count": 19,
   "metadata": {},
   "outputs": [],
   "source": [
    "b1[3] = '新四號'"
   ]
  },
  {
   "cell_type": "code",
   "execution_count": 20,
   "metadata": {},
   "outputs": [
    {
     "data": {
      "text/plain": [
       "['alpha', 'beta', '三號', '新四號', '怪怪一', '怪怪二', '最後一號']"
      ]
     },
     "execution_count": 20,
     "metadata": {},
     "output_type": "execute_result"
    }
   ],
   "source": [
    "b1"
   ]
  },
  {
   "cell_type": "markdown",
   "metadata": {},
   "source": [
    "另外我們也可以將(一個)新元素附加在現有List的最後，這可以透過append()達到。"
   ]
  },
  {
   "cell_type": "code",
   "execution_count": 21,
   "metadata": {},
   "outputs": [],
   "source": [
    "b1.append('新加的')"
   ]
  },
  {
   "cell_type": "code",
   "execution_count": 22,
   "metadata": {},
   "outputs": [
    {
     "data": {
      "text/plain": [
       "['alpha', 'beta', '三號', '新四號', '怪怪一', '怪怪二', '最後一號', '新加的']"
      ]
     },
     "execution_count": 22,
     "metadata": {},
     "output_type": "execute_result"
    }
   ],
   "source": [
    "b1"
   ]
  },
  {
   "cell_type": "markdown",
   "metadata": {},
   "source": [
    "上面`b1.append('新加的')`是物件導向的寫法，意思是叫b1這個物件(Object)使用它內建的append函數把'新加的'這個元素加入自己這個List中。\n",
    "\n",
    "我們在這裡不會對物件導向有詳細的介紹，但這件事直觀上很好理解，就是一個物件可能有很多\"方法\"，也就是這個物件內建的函數，可以對自己操作。\n",
    "\n",
    "這可以比喻成車子(一個物件)與這台車子的油門(一個方法)。我們可以踩油門讓車子前進。"
   ]
  },
  {
   "cell_type": "markdown",
   "metadata": {},
   "source": [
    "### List排序\n",
    "\n",
    "List有內建一個排序函數，直接呼叫可以對自己的元素排序:"
   ]
  },
  {
   "cell_type": "code",
   "execution_count": 23,
   "metadata": {},
   "outputs": [
    {
     "data": {
      "text/plain": [
       "['alpha', 'beta', '三號', '怪怪一', '怪怪二', '新加的', '新四號', '最後一號']"
      ]
     },
     "execution_count": 23,
     "metadata": {},
     "output_type": "execute_result"
    }
   ],
   "source": [
    "b1.sort()\n",
    "b1"
   ]
  },
  {
   "cell_type": "markdown",
   "metadata": {},
   "source": [
    "sort()預設是由小到大，也可以改成由大到小:"
   ]
  },
  {
   "cell_type": "code",
   "execution_count": 24,
   "metadata": {},
   "outputs": [
    {
     "data": {
      "text/plain": [
       "['最後一號', '新四號', '新加的', '怪怪二', '怪怪一', '三號', 'beta', 'alpha']"
      ]
     },
     "execution_count": 24,
     "metadata": {},
     "output_type": "execute_result"
    }
   ],
   "source": [
    "b1.sort(reverse = True)\n",
    "b1"
   ]
  },
  {
   "cell_type": "markdown",
   "metadata": {},
   "source": [
    "完整的List功能可以參考官方文件:\n",
    "https://docs.python.org/zh-tw/3/tutorial/datastructures.html\n"
   ]
  },
  {
   "cell_type": "markdown",
   "metadata": {},
   "source": [
    "## 動動手\n",
    "\n",
    "給定一個List b2，計算b2內的元素數量，並將b2依序分成三等份，分別叫做b2_0, b2_1, b2_2。如果數量不能整除，則前兩分的數量為元素數量除以三之後無條件捨去，並允許最後一份比前量分多。"
   ]
  },
  {
   "cell_type": "code",
   "execution_count": 25,
   "metadata": {},
   "outputs": [
    {
     "data": {
      "text/plain": [
       "['alpha', 'beta', '三號', '四號', '怪怪一', '怪怪二', '最後一號']"
      ]
     },
     "execution_count": 25,
     "metadata": {},
     "output_type": "execute_result"
    }
   ],
   "source": [
    "b2 = ['alpha', 'beta', '三號', '四號', \"怪怪一\", '怪怪二', '最後一號']\n",
    "b2"
   ]
  },
  {
   "cell_type": "markdown",
   "metadata": {},
   "source": [
    "提示: 使用int()取整數，或是使用 //。試試7//3。"
   ]
  },
  {
   "cell_type": "code",
   "execution_count": 26,
   "metadata": {},
   "outputs": [],
   "source": [
    "#在這裡嘗試你的作法\n",
    "\n",
    "\n",
    "\n",
    "\n",
    "\n",
    "\n",
    "\n",
    "\n"
   ]
  },
  {
   "cell_type": "code",
   "execution_count": 27,
   "metadata": {},
   "outputs": [
    {
     "name": "stdout",
     "output_type": "stream",
     "text": [
      "b2元素數量為 7\n",
      "每份數量為 2\n",
      "b2_0 =  ['alpha', 'beta']\n",
      "b2_1 =  ['三號', '四號']\n",
      "b2_2 =  ['怪怪一', '怪怪二', '最後一號']\n"
     ]
    }
   ],
   "source": [
    "#參考解答\n",
    "n = len(b2)\n",
    "print(\"b2元素數量為\", n)\n",
    "\n",
    "# int()會無條件捨去\n",
    "n2 = int(n / 3)\n",
    "print(\"每份數量為\", n2)\n",
    "\n",
    "b2_0 = b2[0: n2]\n",
    "b2_1 = b2[n2: n2 + n2]\n",
    "b2_2 = b2[n2+n2:]\n",
    "\n",
    "\n",
    "print(\"b2_0 = \", b2_0)\n",
    "print(\"b2_1 = \", b2_1)\n",
    "print(\"b2_2 = \", b2_2)"
   ]
  },
  {
   "cell_type": "markdown",
   "metadata": {},
   "source": [
    "## Tuple\n",
    "\n",
    "Tuple跟List很像，但是Tuple不允許修改裡面的元素。\n",
    "\n",
    "Tuple建立的方式是用圓括號，而List是用方括號。"
   ]
  },
  {
   "cell_type": "code",
   "execution_count": 28,
   "metadata": {},
   "outputs": [
    {
     "data": {
      "text/plain": [
       "(1, 3, 9, 12, 99)"
      ]
     },
     "execution_count": 28,
     "metadata": {},
     "output_type": "execute_result"
    }
   ],
   "source": [
    "c1 = (1, 3, 9, 12, 99)\n",
    "c1"
   ]
  },
  {
   "cell_type": "code",
   "execution_count": 29,
   "metadata": {},
   "outputs": [
    {
     "data": {
      "text/plain": [
       "9"
      ]
     },
     "execution_count": 29,
     "metadata": {},
     "output_type": "execute_result"
    }
   ],
   "source": [
    "c1[2] "
   ]
  },
  {
   "cell_type": "code",
   "execution_count": 30,
   "metadata": {},
   "outputs": [
    {
     "ename": "TypeError",
     "evalue": "'tuple' object does not support item assignment",
     "output_type": "error",
     "traceback": [
      "\u001b[1;31m---------------------------------------------------------------------------\u001b[0m",
      "\u001b[1;31mTypeError\u001b[0m                                 Traceback (most recent call last)",
      "\u001b[1;32m<ipython-input-30-c0ef40dccfaf>\u001b[0m in \u001b[0;36m<module>\u001b[1;34m\u001b[0m\n\u001b[1;32m----> 1\u001b[1;33m \u001b[0mc1\u001b[0m\u001b[1;33m[\u001b[0m\u001b[1;36m2\u001b[0m\u001b[1;33m]\u001b[0m \u001b[1;33m=\u001b[0m \u001b[1;33m-\u001b[0m\u001b[1;36m3\u001b[0m\u001b[1;33m\u001b[0m\u001b[1;33m\u001b[0m\u001b[0m\n\u001b[0m",
      "\u001b[1;31mTypeError\u001b[0m: 'tuple' object does not support item assignment"
     ]
    }
   ],
   "source": [
    "c1[2] = -3"
   ]
  },
  {
   "cell_type": "markdown",
   "metadata": {},
   "source": [
    "Tuple除了不能修改之外，其他的使用方式都跟List很像。如切片方式:"
   ]
  },
  {
   "cell_type": "code",
   "execution_count": 31,
   "metadata": {},
   "outputs": [
    {
     "data": {
      "text/plain": [
       "(12, 99)"
      ]
     },
     "execution_count": 31,
     "metadata": {},
     "output_type": "execute_result"
    }
   ],
   "source": [
    "c1[-2:]"
   ]
  },
  {
   "cell_type": "markdown",
   "metadata": {},
   "source": [
    "順帶說明一下取最小值與最大值:"
   ]
  },
  {
   "cell_type": "code",
   "execution_count": 32,
   "metadata": {},
   "outputs": [
    {
     "data": {
      "text/plain": [
       "1"
      ]
     },
     "execution_count": 32,
     "metadata": {},
     "output_type": "execute_result"
    }
   ],
   "source": [
    "min(c1)"
   ]
  },
  {
   "cell_type": "code",
   "execution_count": 33,
   "metadata": {},
   "outputs": [
    {
     "data": {
      "text/plain": [
       "99"
      ]
     },
     "execution_count": 33,
     "metadata": {},
     "output_type": "execute_result"
    }
   ],
   "source": [
    "max(c1)"
   ]
  },
  {
   "cell_type": "markdown",
   "metadata": {},
   "source": [
    "最小值與最大值也可以應用在字串上，這時比的是內碼大小:"
   ]
  },
  {
   "cell_type": "code",
   "execution_count": 34,
   "metadata": {},
   "outputs": [
    {
     "data": {
      "text/plain": [
       "('甲', '乙', '丙', '丁', '戊')"
      ]
     },
     "execution_count": 34,
     "metadata": {},
     "output_type": "execute_result"
    }
   ],
   "source": [
    "c2 = ('甲', '乙', '丙', '丁', '戊')\n",
    "c2"
   ]
  },
  {
   "cell_type": "code",
   "execution_count": 35,
   "metadata": {},
   "outputs": [
    {
     "data": {
      "text/plain": [
       "'丁'"
      ]
     },
     "execution_count": 35,
     "metadata": {},
     "output_type": "execute_result"
    }
   ],
   "source": [
    "min(c2)"
   ]
  },
  {
   "cell_type": "code",
   "execution_count": 36,
   "metadata": {},
   "outputs": [
    {
     "data": {
      "text/plain": [
       "'甲'"
      ]
     },
     "execution_count": 36,
     "metadata": {},
     "output_type": "execute_result"
    }
   ],
   "source": [
    "max(c2)"
   ]
  },
  {
   "cell_type": "markdown",
   "metadata": {},
   "source": [
    "## Set \n",
    "\n",
    "集合內為沒有順序，不重複的元素。重複的元素會自動被刪除。以下是一個例子:"
   ]
  },
  {
   "cell_type": "code",
   "execution_count": 37,
   "metadata": {},
   "outputs": [
    {
     "data": {
      "text/plain": [
       "[1, 2, 3, 1, 1, 1, 1, 3, 4, 5]"
      ]
     },
     "execution_count": 37,
     "metadata": {},
     "output_type": "execute_result"
    }
   ],
   "source": [
    "#建立一個List\n",
    "d1 = [1, 2, 3, 1, 1, 1, 1, 3, 4, 5]\n",
    "d1"
   ]
  },
  {
   "cell_type": "code",
   "execution_count": 38,
   "metadata": {},
   "outputs": [
    {
     "data": {
      "text/plain": [
       "{1, 2, 3, 4, 5}"
      ]
     },
     "execution_count": 38,
     "metadata": {},
     "output_type": "execute_result"
    }
   ],
   "source": [
    "#將其轉成set\n",
    "d2 = set(d1)\n",
    "d2"
   ]
  },
  {
   "cell_type": "markdown",
   "metadata": {},
   "source": [
    "由上面的例子可知，將一個List轉成Set之後只會留下不重複的元素。"
   ]
  },
  {
   "cell_type": "markdown",
   "metadata": {},
   "source": [
    "Set可以做集合的操作，例如:"
   ]
  },
  {
   "cell_type": "code",
   "execution_count": 40,
   "metadata": {},
   "outputs": [
    {
     "data": {
      "text/plain": [
       "{2, 3, 'hello'}"
      ]
     },
     "execution_count": 40,
     "metadata": {},
     "output_type": "execute_result"
    }
   ],
   "source": [
    "d3 = set([2, 3, 'hello'])\n",
    "d3"
   ]
  },
  {
   "cell_type": "code",
   "execution_count": 41,
   "metadata": {},
   "outputs": [
    {
     "data": {
      "text/plain": [
       "{2, 3}"
      ]
     },
     "execution_count": 41,
     "metadata": {},
     "output_type": "execute_result"
    }
   ],
   "source": [
    "#d3與d2交集\n",
    "d3 & d2"
   ]
  },
  {
   "cell_type": "code",
   "execution_count": 42,
   "metadata": {},
   "outputs": [
    {
     "data": {
      "text/plain": [
       "{1, 2, 3, 4, 5, 'hello'}"
      ]
     },
     "execution_count": 42,
     "metadata": {},
     "output_type": "execute_result"
    }
   ],
   "source": [
    "# d3與d2聯集\n",
    "d3 | d2"
   ]
  },
  {
   "cell_type": "markdown",
   "metadata": {},
   "source": [
    "## 動動手\n",
    "\n"
   ]
  },
  {
   "cell_type": "markdown",
   "metadata": {},
   "source": [
    "考慮下面loc_data變數:"
   ]
  },
  {
   "cell_type": "code",
   "execution_count": 44,
   "metadata": {},
   "outputs": [],
   "source": [
    "loc_data = ['台北市', '新北市', '新北市', '新北市',\n",
    "        '台中市', '台中市', '台中市', '台中市',\n",
    "        '台北市', '台北市', '台北市', '花蓮市']"
   ]
  },
  {
   "cell_type": "markdown",
   "metadata": {},
   "source": [
    "回答下面問題:\n",
    "1. 總共有幾個不重複地區?\n",
    "2. 列出不重複地區，依照中文內碼排序。\n",
    "3. 列出每個地區以及出現次數。"
   ]
  },
  {
   "cell_type": "markdown",
   "metadata": {},
   "source": [
    "提示: loc_data.count()可以計算頻率。"
   ]
  },
  {
   "cell_type": "code",
   "execution_count": 45,
   "metadata": {},
   "outputs": [],
   "source": [
    "#在這裡嘗試你的作法\n",
    "\n",
    "\n",
    "\n",
    "\n",
    "\n",
    "\n",
    "\n"
   ]
  },
  {
   "cell_type": "code",
   "execution_count": 46,
   "metadata": {},
   "outputs": [
    {
     "name": "stdout",
     "output_type": "stream",
     "text": [
      "問題一: 共有4個不重複地區\n",
      "問題二: 排序並列出不重複地區\n",
      "   - 台中市\n",
      "   - 台北市\n",
      "   - 新北市\n",
      "   - 花蓮市\n",
      "問題三: 列出地區與頻率\n",
      "   - 台中市 出現 4 次\n",
      "   - 台北市 出現 4 次\n",
      "   - 新北市 出現 3 次\n",
      "   - 花蓮市 出現 1 次\n"
     ]
    }
   ],
   "source": [
    "#參考解答\n",
    "\n",
    "uniq_loc = set(loc_data)\n",
    "print(\"問題一: 共有%d個不重複地區\" % len(uniq_loc))\n",
    "\n",
    "#為了要排序，先轉為List\n",
    "uniq_loc2 = list(uniq_loc)\n",
    "uniq_loc2.sort()\n",
    "print(\"問題二: 排序並列出不重複地區\")\n",
    "for aloc in uniq_loc2:\n",
    "    print(\"   -\", aloc)\n",
    "    \n",
    "print(\"問題三: 列出地區與頻率\")\n",
    "for aloc in uniq_loc2:\n",
    "    print(\"   -\", aloc, \"出現\", loc_data.count(aloc), '次')\n"
   ]
  },
  {
   "cell_type": "markdown",
   "metadata": {},
   "source": [
    "## 動動手 (第二題)"
   ]
  },
  {
   "cell_type": "markdown",
   "metadata": {},
   "source": [
    "猜猜看下面這些程式碼的結果(先猜再嘗試)。\n",
    "1. `['b', 'c'] * 3`\n",
    "2. `[1.2, 3.5] + [5.2, 'cc']`\n",
    "3. `set([1.2, 3.5]) - set([4])`\n",
    "4. `'item3' in ['item1', 'item2', 'item3', 'item5']`\n",
    "5. `sum([1.2, 2.3, 4.5])`\n",
    "6. `e1 = ['a', 'b', 'c']; del e1[1]`"
   ]
  },
  {
   "cell_type": "code",
   "execution_count": 47,
   "metadata": {},
   "outputs": [],
   "source": [
    "#在這裡嘗試你的作法\n",
    "\n",
    "\n",
    "\n",
    "\n"
   ]
  }
 ],
 "metadata": {
  "kernelspec": {
   "display_name": "Python 3",
   "language": "python",
   "name": "python3"
  },
  "language_info": {
   "codemirror_mode": {
    "name": "ipython",
    "version": 3
   },
   "file_extension": ".py",
   "mimetype": "text/x-python",
   "name": "python",
   "nbconvert_exporter": "python",
   "pygments_lexer": "ipython3",
   "version": "3.7.4"
  }
 },
 "nbformat": 4,
 "nbformat_minor": 4
}
