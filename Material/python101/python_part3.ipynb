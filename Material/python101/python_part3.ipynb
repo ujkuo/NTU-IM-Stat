{
 "cells": [
  {
   "cell_type": "markdown",
   "metadata": {},
   "source": [
    "# Python Part 3\n",
    "## Dictionary (字典)、檔案讀取、Function (函數)、與一些例子"
   ]
  },
  {
   "cell_type": "markdown",
   "metadata": {},
   "source": [
    "## Dictionary (字典)\n",
    "\n",
    "Dictionary可以說是Python最好用的內建資料結構。其基本的想法是以\"**鍵 (Key) : 值 (Value)**\"的方式儲存資料，也就是可以利用Key查詢Value。\n",
    "\n",
    "Dictionary基本的語法如下:\n",
    "```python\n",
    "{key1: value1, key2: value2...}\n",
    "```\n",
    "\n",
    "以下是一個例子:"
   ]
  },
  {
   "cell_type": "code",
   "execution_count": 1,
   "metadata": {},
   "outputs": [
    {
     "data": {
      "text/plain": [
       "{'Tom': 23, 'Mary': 72, 'Mia': 92}"
      ]
     },
     "execution_count": 1,
     "metadata": {},
     "output_type": "execute_result"
    }
   ],
   "source": [
    "scores = {\"Tom\": 23, \"Mary\": 72, \"Mia\": 92}\n",
    "scores"
   ]
  },
  {
   "cell_type": "markdown",
   "metadata": {},
   "source": [
    "如果想查詢Mia幾分，"
   ]
  },
  {
   "cell_type": "code",
   "execution_count": 2,
   "metadata": {},
   "outputs": [
    {
     "data": {
      "text/plain": [
       "92"
      ]
     },
     "execution_count": 2,
     "metadata": {},
     "output_type": "execute_result"
    }
   ],
   "source": [
    "scores['Mia']"
   ]
  },
  {
   "cell_type": "markdown",
   "metadata": {},
   "source": [
    "當然，如果丟進去的Key是不存在的，就會跑出錯誤訊息:"
   ]
  },
  {
   "cell_type": "code",
   "execution_count": 3,
   "metadata": {},
   "outputs": [
    {
     "ename": "KeyError",
     "evalue": "'May'",
     "output_type": "error",
     "traceback": [
      "\u001b[1;31m---------------------------------------------------------------------------\u001b[0m",
      "\u001b[1;31mKeyError\u001b[0m                                  Traceback (most recent call last)",
      "\u001b[1;32m<ipython-input-3-9a89b7aa549a>\u001b[0m in \u001b[0;36m<module>\u001b[1;34m\u001b[0m\n\u001b[1;32m----> 1\u001b[1;33m \u001b[0mscores\u001b[0m\u001b[1;33m[\u001b[0m\u001b[1;34m'May'\u001b[0m\u001b[1;33m]\u001b[0m\u001b[1;33m\u001b[0m\u001b[1;33m\u001b[0m\u001b[0m\n\u001b[0m",
      "\u001b[1;31mKeyError\u001b[0m: 'May'"
     ]
    }
   ],
   "source": [
    "scores['May']"
   ]
  },
  {
   "cell_type": "markdown",
   "metadata": {},
   "source": [
    "建立一個空的Dictionary可以使用:"
   ]
  },
  {
   "cell_type": "code",
   "execution_count": 4,
   "metadata": {},
   "outputs": [],
   "source": [
    "score2 = {}"
   ]
  },
  {
   "cell_type": "markdown",
   "metadata": {},
   "source": [
    "接下來可新增Key:Value，例如:"
   ]
  },
  {
   "cell_type": "code",
   "execution_count": 5,
   "metadata": {},
   "outputs": [],
   "source": [
    "score2['張三'] = 88\n",
    "score2['李四'] = 72\n",
    "score2['王五'] = 55\n",
    "score2['趙六'] = 91"
   ]
  },
  {
   "cell_type": "markdown",
   "metadata": {},
   "source": [
    "列出結果看看:"
   ]
  },
  {
   "cell_type": "code",
   "execution_count": 6,
   "metadata": {},
   "outputs": [
    {
     "data": {
      "text/plain": [
       "{'張三': 88, '李四': 72, '王五': 55, '趙六': 91}"
      ]
     },
     "execution_count": 6,
     "metadata": {},
     "output_type": "execute_result"
    }
   ],
   "source": [
    "score2"
   ]
  },
  {
   "cell_type": "markdown",
   "metadata": {},
   "source": [
    "### Dictionary 與 List的比較\n",
    "\n",
    "List主要是存放\"一串東西\"，而Dictionary則是Key:Value。\n",
    "\n",
    "起始一個空的Dictionary與List很像，但不一樣:"
   ]
  },
  {
   "cell_type": "code",
   "execution_count": 7,
   "metadata": {},
   "outputs": [],
   "source": [
    "# 空的List\n",
    "z1 = []\n",
    "# 空的Dictionary\n",
    "z2 = {}"
   ]
  },
  {
   "cell_type": "markdown",
   "metadata": {},
   "source": [
    "在List與Dictionary新增元素也不盡相同:"
   ]
  },
  {
   "cell_type": "code",
   "execution_count": 8,
   "metadata": {},
   "outputs": [],
   "source": [
    "# List新增元素\n",
    "z1.append(\"元素一\")\n",
    "z1.append(\"元素二\")\n",
    "z1.append(\"元素三\")"
   ]
  },
  {
   "cell_type": "code",
   "execution_count": 9,
   "metadata": {},
   "outputs": [],
   "source": [
    "# Dictionary 新增元素\n",
    "z2['one'] = 1\n",
    "z2['two'] = 2\n",
    "z2['three'] = 3"
   ]
  },
  {
   "cell_type": "code",
   "execution_count": 10,
   "metadata": {},
   "outputs": [
    {
     "data": {
      "text/plain": [
       "['元素一', '元素二', '元素三']"
      ]
     },
     "execution_count": 10,
     "metadata": {},
     "output_type": "execute_result"
    }
   ],
   "source": [
    "z1"
   ]
  },
  {
   "cell_type": "code",
   "execution_count": 11,
   "metadata": {},
   "outputs": [
    {
     "data": {
      "text/plain": [
       "{'one': 1, 'two': 2, 'three': 3}"
      ]
     },
     "execution_count": 11,
     "metadata": {},
     "output_type": "execute_result"
    }
   ],
   "source": [
    "z2"
   ]
  },
  {
   "cell_type": "markdown",
   "metadata": {},
   "source": [
    "取用的方式也不相同:"
   ]
  },
  {
   "cell_type": "code",
   "execution_count": 12,
   "metadata": {},
   "outputs": [
    {
     "data": {
      "text/plain": [
       "'元素三'"
      ]
     },
     "execution_count": 12,
     "metadata": {},
     "output_type": "execute_result"
    }
   ],
   "source": [
    "# 取用位置2的元素\n",
    "z1[2]"
   ]
  },
  {
   "cell_type": "code",
   "execution_count": 13,
   "metadata": {},
   "outputs": [
    {
     "data": {
      "text/plain": [
       "2"
      ]
     },
     "execution_count": 13,
     "metadata": {},
     "output_type": "execute_result"
    }
   ],
   "source": [
    "# 取用 'two'對應的Value\n",
    "z2['two']"
   ]
  },
  {
   "cell_type": "markdown",
   "metadata": {},
   "source": [
    "## 檔案讀取\n",
    "\n",
    "檔案讀取三步驟:\n",
    "1. 開啟檔案\n",
    "2. 讀取內容\n",
    "3. 關閉檔案"
   ]
  },
  {
   "cell_type": "markdown",
   "metadata": {},
   "source": [
    "下面是一個讀取`data_news1.txt`的例子:"
   ]
  },
  {
   "cell_type": "code",
   "execution_count": 14,
   "metadata": {},
   "outputs": [
    {
     "name": "stdout",
     "output_type": "stream",
     "text": [
      "香港爆發第三波武漢肺炎疫情，近日病例持續大幅度增加，今天新增48例，其中40宗為本土個案，有16宗與先前的感染群組或地點有關，另外24例找不到源頭。港府專家抗疫顧問小組成員、港大微生物學系講座教授袁國勇今午（14日）接受媒體訪問時表示，相信新一波疫情因邊境檢疫漏洞而起，「零號病人」很可能是計程車司機。\n",
      "\n",
      "袁國勇今接受有線新聞訪問時指出，香港出現第三波疫情爆發，或許因先前港府放寬邊境措施，容許特定人士豁免檢疫而造成漏洞，直言「這個漏洞不是沒人講過，但講過（港府）也沒也沒做好」。\n",
      "\n",
      "他又推測「零號個案」很可能是計程車司機：「計程車司機其中一個接客的地方就是機場，很可能（患者）坐車，計程車司機惹到，他們去了不同餐廳，將病毒傳給員工，員工再傳給顧客，於是在社區大爆發，因為經其他交通工具去到各區」。\n",
      "\n",
      "袁國勇續指，如港府新推出的防疫措施有效，預計確診個案將於本周六（18日）、即首宗個案出現後約10日開始「見頂」，但若港府的措施無效，疫情就不會緩和。他建議港府應為所有有輕微病徵的病人進行病毒檢測，以便追蹤更多隱形患者。\n",
      "\n",
      "另一名港府抗疫專家、中文大學醫學院呼吸系統科講座教授許樹昌亦指，第三波爆發與日前放寬邊境措施容許特定人士豁免檢疫有關：「機組人員和海員，或者公務、商務人士，以往這些人來香港都不需要留樣本，而他們很可能將病毒帶入社區。」\n",
      "\n"
     ]
    }
   ],
   "source": [
    "#Step 1\n",
    "fh1 = open('data_news1.txt', 'r', encoding = 'utf-8')\n",
    "#Step 2，讀取整個檔案\n",
    "text1 = fh1.read()\n",
    "print(text1)\n",
    "#Step 3\n",
    "fh1.close()"
   ]
  },
  {
   "cell_type": "markdown",
   "metadata": {},
   "source": [
    "上面例子中，`fh1 = open('data_news1.txt', 'r', encoding = 'utf-8')`這行中`fh1`是儲存開啟檔案的特殊資料結構，通常稱為file handler。\n",
    "\n",
    "第二個參數'r'的意思是要讀取檔案，沒有要寫入。"
   ]
  },
  {
   "cell_type": "markdown",
   "metadata": {},
   "source": [
    "在檔案讀取的任務中，常會遇到的問題是忘記關檔案，也就是忘了前面範例的最後一行，`fh1.close()`。忘了關檔案在處理檔案的數量少(如數十個)的狀況下並不會有問題，因為當整個程式結束之後，Python會幫你把所有忘記關閉的檔案一併關閉。但如果你需要處理的檔案數量較多，那沒有適時關閉檔案會造成你的程式用光作業系統中所有可以用來處理檔案的資源。"
   ]
  },
  {
   "cell_type": "markdown",
   "metadata": {},
   "source": [
    "一個解決的方法是利用`with`區塊，這先跟Python說，做完了要關檔案呦~~"
   ]
  },
  {
   "cell_type": "code",
   "execution_count": 15,
   "metadata": {},
   "outputs": [
    {
     "name": "stdout",
     "output_type": "stream",
     "text": [
      "香港爆發第三波武漢肺炎疫情，近日病例持續大幅度增加，今天新增48例，其中40宗為本土個案，有16宗與先前的感染群組或地點有關，另外24例找不到源頭。港府專家抗疫顧問小組成員、港大微生物學系講座教授袁國勇今午（14日）接受媒體訪問時表示，相信新一波疫情因邊境檢疫漏洞而起，「零號病人」很可能是計程車司機。\n",
      "\n",
      "袁國勇今接受有線新聞訪問時指出，香港出現第三波疫情爆發，或許因先前港府放寬邊境措施，容許特定人士豁免檢疫而造成漏洞，直言「這個漏洞不是沒人講過，但講過（港府）也沒也沒做好」。\n",
      "\n",
      "他又推測「零號個案」很可能是計程車司機：「計程車司機其中一個接客的地方就是機場，很可能（患者）坐車，計程車司機惹到，他們去了不同餐廳，將病毒傳給員工，員工再傳給顧客，於是在社區大爆發，因為經其他交通工具去到各區」。\n",
      "\n",
      "袁國勇續指，如港府新推出的防疫措施有效，預計確診個案將於本周六（18日）、即首宗個案出現後約10日開始「見頂」，但若港府的措施無效，疫情就不會緩和。他建議港府應為所有有輕微病徵的病人進行病毒檢測，以便追蹤更多隱形患者。\n",
      "\n",
      "另一名港府抗疫專家、中文大學醫學院呼吸系統科講座教授許樹昌亦指，第三波爆發與日前放寬邊境措施容許特定人士豁免檢疫有關：「機組人員和海員，或者公務、商務人士，以往這些人來香港都不需要留樣本，而他們很可能將病毒帶入社區。」\n",
      "\n"
     ]
    }
   ],
   "source": [
    "#Step 1 and 3\n",
    "with open('data_news1.txt', 'r', encoding = 'utf-8') as fh1:\n",
    "    #Step 2，讀取整個檔案\n",
    "    text1 = fh1.read()\n",
    "    print(text1)\n"
   ]
  },
  {
   "cell_type": "markdown",
   "metadata": {},
   "source": [
    "讀取檔案這件事說來單純，卻有許多可能會出問題的地方，以下討論幾個觀念:\n",
    "1. 檔案編碼\n",
    "2. 讀取較大檔案\n",
    "3. 相對路徑與絕對路徑\n"
   ]
  },
  {
   "cell_type": "markdown",
   "metadata": {},
   "source": [
    "### 檔案編碼\n",
    "\n",
    "對於中文使用者而言，檔案編碼是一個無法逃避的問題。先看一個錯誤的例子:"
   ]
  },
  {
   "cell_type": "code",
   "execution_count": 16,
   "metadata": {},
   "outputs": [
    {
     "ename": "UnicodeDecodeError",
     "evalue": "'cp950' codec can't decode byte 0x99 in position 2: illegal multibyte sequence",
     "output_type": "error",
     "traceback": [
      "\u001b[1;31m---------------------------------------------------------------------------\u001b[0m",
      "\u001b[1;31mUnicodeDecodeError\u001b[0m                        Traceback (most recent call last)",
      "\u001b[1;32m<ipython-input-16-161c399a27f6>\u001b[0m in \u001b[0;36m<module>\u001b[1;34m\u001b[0m\n\u001b[0;32m      2\u001b[0m \u001b[1;32mwith\u001b[0m \u001b[0mopen\u001b[0m\u001b[1;33m(\u001b[0m\u001b[1;34m'data_news1.txt'\u001b[0m\u001b[1;33m,\u001b[0m \u001b[1;34m'r'\u001b[0m\u001b[1;33m,\u001b[0m \u001b[0mencoding\u001b[0m \u001b[1;33m=\u001b[0m \u001b[1;34m'cp950'\u001b[0m\u001b[1;33m)\u001b[0m \u001b[1;32mas\u001b[0m \u001b[0mfh1\u001b[0m\u001b[1;33m:\u001b[0m\u001b[1;33m\u001b[0m\u001b[1;33m\u001b[0m\u001b[0m\n\u001b[0;32m      3\u001b[0m     \u001b[1;31m#Step 2，讀取整個檔案\u001b[0m\u001b[1;33m\u001b[0m\u001b[1;33m\u001b[0m\u001b[1;33m\u001b[0m\u001b[0m\n\u001b[1;32m----> 4\u001b[1;33m     \u001b[0mtext1\u001b[0m \u001b[1;33m=\u001b[0m \u001b[0mfh1\u001b[0m\u001b[1;33m.\u001b[0m\u001b[0mread\u001b[0m\u001b[1;33m(\u001b[0m\u001b[1;33m)\u001b[0m\u001b[1;33m\u001b[0m\u001b[1;33m\u001b[0m\u001b[0m\n\u001b[0m\u001b[0;32m      5\u001b[0m     \u001b[0mprint\u001b[0m\u001b[1;33m(\u001b[0m\u001b[0mtext1\u001b[0m\u001b[1;33m)\u001b[0m\u001b[1;33m\u001b[0m\u001b[1;33m\u001b[0m\u001b[0m\n",
      "\u001b[1;31mUnicodeDecodeError\u001b[0m: 'cp950' codec can't decode byte 0x99 in position 2: illegal multibyte sequence"
     ]
    }
   ],
   "source": [
    "#Step 1 and 3\n",
    "with open('data_news1.txt', 'r', encoding = 'cp950') as fh1:\n",
    "    #Step 2，讀取整個檔案\n",
    "    text1 = fh1.read()\n",
    "    print(text1)"
   ]
  },
  {
   "cell_type": "markdown",
   "metadata": {},
   "source": [
    "這個例子無法正常執行因為我們指定的檔案編碼不對。\n",
    "\n",
    "要注意的是，如果不指定編碼，也就是把`encoding =`整個拿掉，不一定能解決問題。如果沒有指定，Python會用預設值。每台電腦可能因為設定或作業系統版本不同，而有不同的預設值，因此有可能會造成同樣的程式在某些機器可以執行，但某些機器不能執行的問題。"
   ]
  },
  {
   "cell_type": "markdown",
   "metadata": {},
   "source": [
    "在往下討論之前，我們先介紹一下現代電腦系統的文字檔案編碼方式。\n",
    "\n",
    "### 文字編碼方式"
   ]
  },
  {
   "cell_type": "markdown",
   "metadata": {},
   "source": [
    "早期(1960年代)的電腦系統只能處理英文，使用的編碼叫ASCII。ASCII一個字是8 bit長，也就是說總共可以代表$2^8 = 256$種字元。\n",
    "\n",
    "然而中文常用字超過$3,000$個以上。因此在1980年代，台灣的資訊工業策進會協調五大廠商，制定了統一的中文內碼，稱為Big-5 (大五碼)。Big-5使用16 bit代表一個中文字，理論上可以代表$2^{16} = 65536$種字元。這對中文字很夠了。\n",
    "\n",
    "然而，隨著資訊科技的普及，我們需要一個能容納全世界所有語言的編碼。這也就是Unicode在做的事。\n",
    "\n",
    "Unicode (一個非營利組織)發展了世界統一的文字編碼。1992年六月收錄20,902中日韓文字。\n",
    "\n",
    "目前大部分的作業系統都支援Unicode。這包含了我們身邊的Windows, Linux, Mac, Andriod, iPhone, 等。\n"
   ]
  },
  {
   "cell_type": "markdown",
   "metadata": {},
   "source": [
    "常見的Unicode編碼方式有兩種:\n",
    "* UTF-8 (Linux, Andriod預設): 使用8 bit, 16 bit, 或24 bit代表一個字元。\n",
    "* UTF-16 (Microsoft Windows內部使用): 使用8 bit或16 bit代表一個字元。\n",
    "\n",
    "如果你不知道要選什麼，請選UTF-8。\n",
    "\n",
    "除非你有相容性的考量(比如說需要在Windows 3.1下執行)，否則你不應該再使用Big-5編碼。"
   ]
  },
  {
   "cell_type": "markdown",
   "metadata": {},
   "source": [
    "如果不確定於要處理的文字檔是什麼編碼，可以使用Notepad++開啟，看看Notepad++認為這個檔案的編碼是什麼。\n",
    "\n",
    "下面是這個做法的節圖:\n",
    "\n",
    "![Notepad++ Screenshot](notepadplus1.png \"Notepad++查看檔案編碼\")"
   ]
  },
  {
   "cell_type": "markdown",
   "metadata": {},
   "source": [
    "### cp950 vs. big5\n",
    "\n",
    "如前面討論，Big5是早期繁體中文廣泛使用的編碼格式。但由於Microsoft在實作Big5時有所調整，Microsoft將他們調整過的big5叫cp950。簡單的說，cp950跟big5是\"大同小異\"。大部分的狀況cp950跟big5會有一樣的結果。但cp950字元較多，因此兩者應以cp950優先使用。"
   ]
  },
  {
   "cell_type": "markdown",
   "metadata": {},
   "source": [
    "#### BOM or Not BOM\n",
    "\n",
    "上圖中除了UTF-8之外，還有UTF-8-BOM。這兩個選項有什麼差別呢? BOM是Byte-Order Mark的縮寫，使用BOM的檔案在檔案的開頭會有特殊的字元標示這個檔案使用的編碼格式。一般來說UTF-8比UTF-8-BOM常用。有一個特殊狀況會使用UTF-8-BOM。\n",
    "\n",
    "**小秘訣**: 如果有CSV檔案是UTF-8編碼，直接雙擊使用Excel打開時中文可能會是亂碼。這是因為Excel預設以Big5處理中文的原因。要讓Excel認得UTF-8編碼的方式是將UTF-8編碼轉換成UTF-8-BOM編碼，如此即可在Windows環境雙擊打開。\n"
   ]
  },
  {
   "cell_type": "markdown",
   "metadata": {},
   "source": [
    "### 讀取較大檔案\n",
    "\n",
    "當檔案較大時，直接使用`.read()`可能會遇到記憶體不足的問題。一個處理方式是一次讀取$n$個bytes，這可以由$.read(n)$達成。\n",
    "\n",
    "另一個方式是一次讀取一行，如下面範例所示:"
   ]
  },
  {
   "cell_type": "code",
   "execution_count": 17,
   "metadata": {},
   "outputs": [
    {
     "name": "stdout",
     "output_type": "stream",
     "text": [
      "1 : 香港爆發第三波武漢肺炎疫情，近日病例持續大幅度增加，今天新增48例，其中40宗為本土個案，有16宗與先前的感染群組或地點有關，另外24例找不到源頭。港府專家抗疫顧問小組成員、港大微生物學系講座教授袁國勇今午（14日）接受媒體訪問時表示，相信新一波疫情因邊境檢疫漏洞而起，「零號病人」很可能是計程車司機。\n",
      "\n",
      "2 : \n",
      "\n",
      "3 : 袁國勇今接受有線新聞訪問時指出，香港出現第三波疫情爆發，或許因先前港府放寬邊境措施，容許特定人士豁免檢疫而造成漏洞，直言「這個漏洞不是沒人講過，但講過（港府）也沒也沒做好」。\n",
      "\n",
      "4 : \n",
      "\n",
      "5 : 他又推測「零號個案」很可能是計程車司機：「計程車司機其中一個接客的地方就是機場，很可能（患者）坐車，計程車司機惹到，他們去了不同餐廳，將病毒傳給員工，員工再傳給顧客，於是在社區大爆發，因為經其他交通工具去到各區」。\n",
      "\n",
      "6 : \n",
      "\n",
      "7 : 袁國勇續指，如港府新推出的防疫措施有效，預計確診個案將於本周六（18日）、即首宗個案出現後約10日開始「見頂」，但若港府的措施無效，疫情就不會緩和。他建議港府應為所有有輕微病徵的病人進行病毒檢測，以便追蹤更多隱形患者。\n",
      "\n",
      "8 : \n",
      "\n",
      "9 : 另一名港府抗疫專家、中文大學醫學院呼吸系統科講座教授許樹昌亦指，第三波爆發與日前放寬邊境措施容許特定人士豁免檢疫有關：「機組人員和海員，或者公務、商務人士，以往這些人來香港都不需要留樣本，而他們很可能將病毒帶入社區。」\n",
      "\n",
      "=====\n",
      "總共有9行\n"
     ]
    }
   ],
   "source": [
    "#Step 1 and 3\n",
    "with open('data_news1.txt', 'r', encoding = 'utf-8') as fh1:\n",
    "    #Step 2，讀取整個檔案\n",
    "    count = 0\n",
    "    for aline in fh1:\n",
    "        count += 1\n",
    "        print(count, \":\", aline)\n",
    "print(\"=====\\n總共有%d行\" % count)    "
   ]
  },
  {
   "cell_type": "markdown",
   "metadata": {},
   "source": [
    "### 相對路徑與絕對路徑\n",
    "\n",
    "絕對路徑(Absolute Path)指的是由根目錄到指定檔案的路徑。在Windows上通常是由某個\"槽\"開始到一個特定檔案的路徑如:`K:\\Users\\hmlu\\svn_drive3\\administrivia\\2020\\classes\\part 1\\data_news1.txt`。\n",
    "\n",
    "絕對路徑不會因為程式所在的位置而改變，因此如果檔案的位置固定時，這是一個好的選擇。"
   ]
  },
  {
   "cell_type": "markdown",
   "metadata": {},
   "source": [
    "然而，許多時候檔案會屬於某個專案，而我們會以專案目錄下的相對位置指定某個資料檔，在這種狀況下，相對路徑反而好用。\n",
    "\n",
    "使用相對路徑時，需要先確定程式的工作目錄。所有的路徑都是由這個工作目錄出發。\n",
    "\n",
    "工作目錄的取得方式為:"
   ]
  },
  {
   "cell_type": "code",
   "execution_count": 18,
   "metadata": {},
   "outputs": [
    {
     "data": {
      "text/plain": [
       "'C:\\\\Users\\\\hsinminlu\\\\WPy64-3741\\\\notebooks\\\\audit_class\\\\classes\\\\part 1'"
      ]
     },
     "execution_count": 18,
     "metadata": {},
     "output_type": "execute_result"
    }
   ],
   "source": [
    "import os\n",
    "os.getcwd()"
   ]
  },
  {
   "cell_type": "markdown",
   "metadata": {},
   "source": [
    "再次提醒大家在Windows中路徑需用雙反斜線分隔資料夾名稱。\n",
    "\n",
    "另外為了方便使用者，Python也允許使用反斜線分隔資料夾名稱。下面會看到具體的例子。"
   ]
  },
  {
   "cell_type": "markdown",
   "metadata": {},
   "source": [
    "確認了工作目錄之後，由這個目錄出發，指定檔案的相對位置。例如，要開啟這個目錄下`data`子目錄中的`data_news2.txt`，做法如下:"
   ]
  },
  {
   "cell_type": "code",
   "execution_count": 19,
   "metadata": {},
   "outputs": [
    {
     "name": "stdout",
     "output_type": "stream",
     "text": [
      "原本開發用於治療伊波拉病毒的「瑞德西韋」，這次被拿來治療武漢肺炎，知名《新英格蘭醫學期刊》10日一份研究指出，53位住院並有嚴重武漢肺炎併發症患者接受瑞德西韋恩慈療法後，68%病人供氧系統得到改善，半數以上使用呼吸器的患者最終能拔管，所有患者中近半數接受治療後能出院。\n",
      "\n",
      "這份臨床試驗，53位武漢肺炎患者中有34人、近三分之二使用呼吸器，其中包括4名安裝葉克膜。不過結果顯示，相較於使用非侵入性呼吸器的患者，使用侵入性呼吸器的患者臨床改善率較低；比起50歲以下患者，70歲以上患者的臨床改善率較低。\n",
      " \n",
      "中國醫藥大學兒童醫院兒童感染科主任黃高彬指出，台灣目前共計11人使用瑞德西韋治療，瑞德西韋主要作用為抑制核酸複製，早期抗病毒效果不錯，可以很快讓病毒量減少。病毒量在發病後第7天最多，目前臨床試驗，在4天內給藥，可以很快降低病毒量，改善病況。\n"
     ]
    }
   ],
   "source": [
    "with open('data/data_news2.txt', 'r', encoding = 'utf-8') as fh2:    \n",
    "    text2 = fh2.read()\n",
    "    print(text2)"
   ]
  },
  {
   "cell_type": "markdown",
   "metadata": {},
   "source": [
    "### 動動手\n",
    "\n",
    "將上面例子中的相對路徑改為絕對路徑。"
   ]
  },
  {
   "cell_type": "code",
   "execution_count": 20,
   "metadata": {},
   "outputs": [],
   "source": [
    "#在這裡嘗試你的作法\n",
    "\n",
    "\n",
    "\n",
    "\n",
    "\n",
    "\n",
    "\n",
    "\n"
   ]
  },
  {
   "cell_type": "code",
   "execution_count": 21,
   "metadata": {},
   "outputs": [
    {
     "name": "stdout",
     "output_type": "stream",
     "text": [
      "原本開發用於治療伊波拉病毒的「瑞德西韋」，這次被拿來治療武漢肺炎，知名《新英格蘭醫學期刊》10日一份研究指出，53位住院並有嚴重武漢肺炎併發症患者接受瑞德西韋恩慈療法後，68%病人供氧系統得到改善，半數以上使用呼吸器的患者最終能拔管，所有患者中近半數接受治療後能出院。\n",
      "\n",
      "這份臨床試驗，53位武漢肺炎患者中有34人、近三分之二使用呼吸器，其中包括4名安裝葉克膜。不過結果顯示，相較於使用非侵入性呼吸器的患者，使用侵入性呼吸器的患者臨床改善率較低；比起50歲以下患者，70歲以上患者的臨床改善率較低。\n",
      " \n",
      "中國醫藥大學兒童醫院兒童感染科主任黃高彬指出，台灣目前共計11人使用瑞德西韋治療，瑞德西韋主要作用為抑制核酸複製，早期抗病毒效果不錯，可以很快讓病毒量減少。病毒量在發病後第7天最多，目前臨床試驗，在4天內給藥，可以很快降低病毒量，改善病況。\n"
     ]
    }
   ],
   "source": [
    "#參考解答\n",
    "\n",
    "\n",
    "with open('C:\\\\Users\\\\hsinminlu\\\\WPy64-3741\\\\notebooks\\\\audit_class\\\\classes\\\\part 1\\\\data\\\\data_news2.txt', 'r', encoding = 'utf-8') as fh2:    \n",
    "    text2 = fh2.read()\n",
    "    print(text2)\n"
   ]
  },
  {
   "cell_type": "markdown",
   "metadata": {},
   "source": [
    "## 檔案寫入\n",
    "\n",
    "檔案寫入時做法與檔案讀取類似，主要的差異是開檔時需指定狀態為'w'而不是'r'。另外寫入資料使用`write()`函數。\n"
   ]
  },
  {
   "cell_type": "code",
   "execution_count": 22,
   "metadata": {},
   "outputs": [],
   "source": [
    "with open('test_out1.csv', 'w', encoding = 'utf-8-sig') as fh3:    \n",
    "    fh3.write('姓名,學號\\n')\n",
    "    fh3.write('張三,1001\\n')\n",
    "    fh3.write('李四,1002\\n')\n",
    "    fh3.write('王五,1003\\n')"
   ]
  },
  {
   "cell_type": "markdown",
   "metadata": {},
   "source": [
    "上面例子中encoding使用utf-8-sig，也就是這個檔案的最前面有BOM，這可以讓Excel順利辨識UTF-8編碼，也就是你可以雙擊開啟這個資料檔。當然這個檔案也可以直接用文字編輯器打開。"
   ]
  },
  {
   "cell_type": "markdown",
   "metadata": {},
   "source": [
    "另外要特別注意的是，一般而言如果是要處理csv檔案的話，最好使用內建的csv模組，或是pandas模組。不建議像上面的例子這樣自己輸出。主要的原因是csv檔案有規定資料遇到較特殊狀況的處理方式，如資料內也有逗點的狀況，自己輸出容易犯錯。"
   ]
  },
  {
   "cell_type": "markdown",
   "metadata": {},
   "source": [
    "## Function (函數)\n",
    "\n",
    "Function是一段定義好的程式碼，可以重複呼叫使用。除了能讓程式更有結構外，也可以減少錯誤的發生。\n",
    "\n",
    "下面是定義函數的語法"
   ]
  },
  {
   "cell_type": "markdown",
   "metadata": {},
   "source": [
    "```python\n",
    "def get_result(var1, var2):\n",
    "    \"\"\"Compute final result.\"\"\"\n",
    "    line1\n",
    "    line2\n",
    "    return total_counter\n",
    "```"
   ]
  },
  {
   "cell_type": "markdown",
   "metadata": {},
   "source": [
    "在上面的例子中，\n",
    "* get_result是函數名稱\n",
    "* var1, var2是可以傳入的參數(parameters)\n",
    "* 三連引號內是函數的說明\n",
    "* line1與line2是函數的程式碼\n",
    "* 最後一行定義函數的傳回值"
   ]
  },
  {
   "cell_type": "markdown",
   "metadata": {},
   "source": [
    "舉一個簡單的例子，"
   ]
  },
  {
   "cell_type": "code",
   "execution_count": 23,
   "metadata": {},
   "outputs": [],
   "source": [
    "def print_msg(item, ndays=30):\n",
    "    print(\"請在%d天內歸還%s\" % (ndays, item))"
   ]
  },
  {
   "cell_type": "code",
   "execution_count": 24,
   "metadata": {},
   "outputs": [
    {
     "name": "stdout",
     "output_type": "stream",
     "text": [
      "請在30天內歸還剪刀\n"
     ]
    }
   ],
   "source": [
    "print_msg(\"剪刀\")"
   ]
  },
  {
   "cell_type": "markdown",
   "metadata": {},
   "source": [
    "上面的例子中有兩個參數，第一個叫item,第二個叫ndays。其中ndays有預設值，因此可以不用指定，只需要指定第一個參數的數值。\n",
    "\n",
    "需注意沒有預設值的參數需放在前面，有預設值的參數需放在後面。\n",
    "\n",
    "當然我們可以兩個參數都指定:"
   ]
  },
  {
   "cell_type": "code",
   "execution_count": 25,
   "metadata": {},
   "outputs": [
    {
     "name": "stdout",
     "output_type": "stream",
     "text": [
      "請在10天內歸還豆漿\n"
     ]
    }
   ],
   "source": [
    "print_msg(\"豆漿\", 10)"
   ]
  },
  {
   "cell_type": "markdown",
   "metadata": {},
   "source": [
    "### Global (全域)與Local (區域)變數\n",
    "\n",
    "在使用函數時有一個很重要的觀念，就是Global與Local變數的觀念。\n",
    "\n",
    "簡單的說，在函數內定義的變數是區域變數，只生活在函數內。而函數外則可以定義全域變數，全域變數可以在函數內使用。\n",
    "\n",
    "看一些例子可以幫助這個觀念的理解。\n",
    "\n",
    "下面這個函數接受一個參數，就是產品的數量，然後吐出總價。函數內unitp定義的產品的單價。"
   ]
  },
  {
   "cell_type": "code",
   "execution_count": 26,
   "metadata": {},
   "outputs": [],
   "source": [
    "def give_total(n):\n",
    "    unitp = 1.2\n",
    "    total = unitp * n\n",
    "    return total"
   ]
  },
  {
   "cell_type": "markdown",
   "metadata": {},
   "source": [
    "先試用一下這個函數"
   ]
  },
  {
   "cell_type": "code",
   "execution_count": 27,
   "metadata": {},
   "outputs": [
    {
     "data": {
      "text/plain": [
       "3.5999999999999996"
      ]
     },
     "execution_count": 27,
     "metadata": {},
     "output_type": "execute_result"
    }
   ],
   "source": [
    "give_total(3)"
   ]
  },
  {
   "cell_type": "code",
   "execution_count": 28,
   "metadata": {},
   "outputs": [
    {
     "data": {
      "text/plain": [
       "12.0"
      ]
     },
     "execution_count": 28,
     "metadata": {},
     "output_type": "execute_result"
    }
   ],
   "source": [
    "give_total(10)"
   ]
  },
  {
   "cell_type": "markdown",
   "metadata": {},
   "source": [
    "由於unitp是定義在函數內，因此為區域變數。因此在函數的外面看不到這個變數:"
   ]
  },
  {
   "cell_type": "code",
   "execution_count": 29,
   "metadata": {},
   "outputs": [
    {
     "ename": "NameError",
     "evalue": "name 'unitp' is not defined",
     "output_type": "error",
     "traceback": [
      "\u001b[1;31m---------------------------------------------------------------------------\u001b[0m",
      "\u001b[1;31mNameError\u001b[0m                                 Traceback (most recent call last)",
      "\u001b[1;32m<ipython-input-29-1b227baf1938>\u001b[0m in \u001b[0;36m<module>\u001b[1;34m\u001b[0m\n\u001b[1;32m----> 1\u001b[1;33m \u001b[0munitp\u001b[0m\u001b[1;33m\u001b[0m\u001b[1;33m\u001b[0m\u001b[0m\n\u001b[0m",
      "\u001b[1;31mNameError\u001b[0m: name 'unitp' is not defined"
     ]
    }
   ],
   "source": [
    "unitp"
   ]
  },
  {
   "cell_type": "markdown",
   "metadata": {},
   "source": [
    "如果我們在外面重新定義unitp，會影響give_total()中的unitp嗎?"
   ]
  },
  {
   "cell_type": "code",
   "execution_count": 30,
   "metadata": {},
   "outputs": [
    {
     "data": {
      "text/plain": [
       "1.2"
      ]
     },
     "execution_count": 30,
     "metadata": {},
     "output_type": "execute_result"
    }
   ],
   "source": [
    "unitp = 5\n",
    "give_total(1)"
   ]
  },
  {
   "cell_type": "markdown",
   "metadata": {},
   "source": [
    "如果函數外有全域變數unitp，而函數內有區域變數unitp，則在函數的範圍內，區域變數會蓋掉全域變數。\n",
    "\n",
    "不過，如果函數內沒有重新定義全域變數，則可以直接在函數內取得全域變數的數值:"
   ]
  },
  {
   "cell_type": "code",
   "execution_count": 31,
   "metadata": {},
   "outputs": [],
   "source": [
    "def give_total2(n):\n",
    "    print(\"Weekend = %d\" % weekend)\n",
    "    unitp = 1.2\n",
    "    total = unitp * n\n",
    "    return total"
   ]
  },
  {
   "cell_type": "code",
   "execution_count": 32,
   "metadata": {},
   "outputs": [
    {
     "name": "stdout",
     "output_type": "stream",
     "text": [
      "Weekend = 1\n"
     ]
    },
    {
     "data": {
      "text/plain": [
       "2.4"
      ]
     },
     "execution_count": 32,
     "metadata": {},
     "output_type": "execute_result"
    }
   ],
   "source": [
    "weekend = True\n",
    "give_total2(2)"
   ]
  },
  {
   "cell_type": "markdown",
   "metadata": {},
   "source": [
    "要注意的是，在這種狀況下函數內看到的是全域變數的一個複本，也就是如果在函數內修改了這個變數的數值，並不會影響函數外同名稱變數的數值。"
   ]
  },
  {
   "cell_type": "code",
   "execution_count": 33,
   "metadata": {},
   "outputs": [],
   "source": [
    "def give_total3(n):\n",
    "    weekend = -1\n",
    "    print(\"Inside Weekend = %d\" % weekend)\n",
    "    unitp = 1.2\n",
    "    total = unitp * n\n",
    "    return total"
   ]
  },
  {
   "cell_type": "code",
   "execution_count": 34,
   "metadata": {},
   "outputs": [
    {
     "name": "stdout",
     "output_type": "stream",
     "text": [
      "Inside Weekend = -1\n",
      "12.0\n",
      "Outside weekend =  9\n"
     ]
    }
   ],
   "source": [
    "weekend = 9\n",
    "print(give_total3(10))\n",
    "print(\"Outside weekend = \", weekend)"
   ]
  },
  {
   "cell_type": "markdown",
   "metadata": {},
   "source": [
    "如果需要在函數內修改全域變數的數值，則需要使用\"global\"這個關鍵字連結內外。"
   ]
  },
  {
   "cell_type": "code",
   "execution_count": 35,
   "metadata": {},
   "outputs": [],
   "source": [
    "def give_total4(n):\n",
    "    global weekend\n",
    "    weekend = -1\n",
    "    print(\"Inside Weekend = %d\" % weekend)\n",
    "    unitp = 1.2\n",
    "    total = unitp * n\n",
    "    return total"
   ]
  },
  {
   "cell_type": "code",
   "execution_count": 36,
   "metadata": {},
   "outputs": [
    {
     "name": "stdout",
     "output_type": "stream",
     "text": [
      "Inside Weekend = -1\n",
      "12.0\n",
      "Outside weekend =  -1\n"
     ]
    }
   ],
   "source": [
    "weekend = 8\n",
    "print(give_total4(10))\n",
    "print(\"Outside weekend = \", weekend)"
   ]
  },
  {
   "cell_type": "markdown",
   "metadata": {},
   "source": [
    "最後，函數的傳回值可以交給一個變數，接續後續的程序:"
   ]
  },
  {
   "cell_type": "code",
   "execution_count": 37,
   "metadata": {},
   "outputs": [
    {
     "name": "stdout",
     "output_type": "stream",
     "text": [
      "3.5999999999999996 4.8 8.399999999999999\n"
     ]
    }
   ],
   "source": [
    "m1 = give_total(3)\n",
    "m2 = give_total(4)\n",
    "print(m1, m2, m1+m2)"
   ]
  },
  {
   "cell_type": "markdown",
   "metadata": {},
   "source": [
    "## 例子: 中華民國身分證字號檢查"
   ]
  },
  {
   "cell_type": "markdown",
   "metadata": {},
   "source": [
    "中華民國身分證字號使用一個簡單的驗證規則，主要能防止無意打錯的狀況。\n",
    "\n",
    "身份證字號的規則如下:\n",
    "* 長度為十個字元。\n",
    "* 第一個字元必須為大寫英文字母(A-Z)。\n",
    "* 第二個字元必須為1或2。\n",
    "* 其他的字元必須為數字。\n",
    "* 必須滿足檢查碼規則。\n",
    "\n",
    "一個合法的範例是A123456789。"
   ]
  },
  {
   "cell_type": "markdown",
   "metadata": {},
   "source": [
    "第一個規則可以直接使用len()檢查。"
   ]
  },
  {
   "cell_type": "code",
   "execution_count": 38,
   "metadata": {},
   "outputs": [
    {
     "data": {
      "text/plain": [
       "10"
      ]
     },
     "execution_count": 38,
     "metadata": {},
     "output_type": "execute_result"
    }
   ],
   "source": [
    "str1 = \"A123456789\"\n",
    "len(str1)"
   ]
  },
  {
   "cell_type": "markdown",
   "metadata": {},
   "source": [
    "接下來是檢查第一個字元。這件事可以用我們之前所介紹的\"in\"operator處理。例如:"
   ]
  },
  {
   "cell_type": "code",
   "execution_count": 39,
   "metadata": {},
   "outputs": [
    {
     "data": {
      "text/plain": [
       "False"
      ]
     },
     "execution_count": 39,
     "metadata": {},
     "output_type": "execute_result"
    }
   ],
   "source": [
    "\"a\" in [\"A\", \"B\", \"C\"]"
   ]
  },
  {
   "cell_type": "code",
   "execution_count": 40,
   "metadata": {},
   "outputs": [
    {
     "data": {
      "text/plain": [
       "True"
      ]
     },
     "execution_count": 40,
     "metadata": {},
     "output_type": "execute_result"
    }
   ],
   "source": [
    "\"A\" in [\"A\", \"B\", \"C\"]"
   ]
  },
  {
   "cell_type": "markdown",
   "metadata": {},
   "source": [
    "第一個字元取得:"
   ]
  },
  {
   "cell_type": "code",
   "execution_count": 41,
   "metadata": {},
   "outputs": [
    {
     "data": {
      "text/plain": [
       "'A'"
      ]
     },
     "execution_count": 41,
     "metadata": {},
     "output_type": "execute_result"
    }
   ],
   "source": [
    "str1[0]"
   ]
  },
  {
   "cell_type": "markdown",
   "metadata": {},
   "source": [
    "因此我們可以先定義好一個串列，內含所有大寫字母:"
   ]
  },
  {
   "cell_type": "code",
   "execution_count": 42,
   "metadata": {},
   "outputs": [],
   "source": [
    "A2Z = ['A', 'B', 'C', 'D', 'E', 'F', 'G', 'H', \n",
    "       'I', 'J', 'K', 'L', 'M', 'N', 'O', 'P', \n",
    "       'Q', 'R', 'S', 'T', 'U', 'V', 'W', 'X', 'Y', 'Z']"
   ]
  },
  {
   "cell_type": "code",
   "execution_count": 43,
   "metadata": {},
   "outputs": [
    {
     "data": {
      "text/plain": [
       "26"
      ]
     },
     "execution_count": 43,
     "metadata": {},
     "output_type": "execute_result"
    }
   ],
   "source": [
    "len(A2Z)"
   ]
  },
  {
   "cell_type": "markdown",
   "metadata": {},
   "source": [
    "檢查第一個字母是否大寫:"
   ]
  },
  {
   "cell_type": "code",
   "execution_count": 44,
   "metadata": {},
   "outputs": [
    {
     "data": {
      "text/plain": [
       "True"
      ]
     },
     "execution_count": 44,
     "metadata": {},
     "output_type": "execute_result"
    }
   ],
   "source": [
    "str1[0] in A2Z"
   ]
  },
  {
   "cell_type": "markdown",
   "metadata": {},
   "source": [
    "檢查第二個字元是否為1或2"
   ]
  },
  {
   "cell_type": "code",
   "execution_count": 45,
   "metadata": {},
   "outputs": [
    {
     "data": {
      "text/plain": [
       "True"
      ]
     },
     "execution_count": 45,
     "metadata": {},
     "output_type": "execute_result"
    }
   ],
   "source": [
    "str1[1] in ['1', '2']"
   ]
  },
  {
   "cell_type": "markdown",
   "metadata": {},
   "source": [
    "接下來是檢查其他的字元是否為數字。先定義所有的數字:"
   ]
  },
  {
   "cell_type": "code",
   "execution_count": 46,
   "metadata": {},
   "outputs": [],
   "source": [
    "alldigit = ['0', '1', '2', '3', '4', '5',\n",
    "           '6', '7', '8', '9']"
   ]
  },
  {
   "cell_type": "code",
   "execution_count": 47,
   "metadata": {},
   "outputs": [
    {
     "name": "stdout",
     "output_type": "stream",
     "text": [
      "2 True\n",
      "3 True\n",
      "4 True\n",
      "5 True\n",
      "6 True\n",
      "7 True\n",
      "8 True\n",
      "9 True\n"
     ]
    }
   ],
   "source": [
    "for achar in str1[2:]:\n",
    "    print(achar, achar in alldigit)"
   ]
  },
  {
   "cell_type": "markdown",
   "metadata": {},
   "source": [
    "#### 身分證字號檢查碼規則\n",
    "\n",
    "最複雜的是檢查碼的規則。檢查的過程如下:\n",
    "1. 將英文字母對應到一個兩位的整數。\n",
    "2. 根其他九位數字接起來，共十一位整數。\n",
    "3. 每個整數分開來看，各自乘上一個權重。各位置的權重為:[1, 9, 8, 7, 6, 5, 4, 3, 2, 1, 1]\n",
    "4. 將各位置的結果相加，之後除以10。\n",
    "5. 如果餘數為0，則檢查通過，否則不通過。"
   ]
  },
  {
   "cell_type": "markdown",
   "metadata": {},
   "source": [
    "第一步的對照表如下:\n",
    "![NID Mapping](nidmap.png \"對照表\")"
   ]
  },
  {
   "cell_type": "markdown",
   "metadata": {},
   "source": [
    "以下是一個例子:\n",
    "身份證字號為: A123456789\n",
    "將A轉成‘10’之後，新的ID為: <br>\n",
    "New ID: 10123456789\n",
    "\n",
    "每個數字乘上各自的權重: [1, 9, 8, 7, 6, 5, 4, 3, 2, 1, 1]\n",
    "\n",
    " 1*1 + 0*9 + 1*8 + 2*7 + 3*6 +  4*5 + 5*4 + 6*3 + 7*2 + 8*1 + 9*1 = 130\n",
    "\n",
    "將總數130除以10，餘數為0。\n",
    "\n",
    "==>檢查通過。"
   ]
  },
  {
   "cell_type": "markdown",
   "metadata": {},
   "source": [
    "***\n",
    "要對應英文字到兩位整數必須要查表，我們可以利用Dictionary來做這件事。"
   ]
  },
  {
   "cell_type": "code",
   "execution_count": 48,
   "metadata": {},
   "outputs": [],
   "source": [
    "cmap = {'A': 10, 'B': 11, 'C': 12, 'D': 13, 'E': 14, 'F': 15, 'G': 16,\n",
    "        'H': 17, 'I': 34, 'J': 18, 'K': 19, 'L': 20, 'M': 21, 'N': 22,\n",
    "        'O': 35, 'P': 23, 'Q': 24, \"R\": 25, 'S': 26, 'T': 27, 'U': 28,\n",
    "        'V': 29, 'W': 32, 'X': 30, 'Y': 31, 'Z': 33}"
   ]
  },
  {
   "cell_type": "markdown",
   "metadata": {},
   "source": [
    "這時如果傳入一個英文字母，就可以得到其對應的數字:"
   ]
  },
  {
   "cell_type": "code",
   "execution_count": 49,
   "metadata": {},
   "outputs": [
    {
     "data": {
      "text/plain": [
       "33"
      ]
     },
     "execution_count": 49,
     "metadata": {},
     "output_type": "execute_result"
    }
   ],
   "source": [
    "cmap['Z']"
   ]
  },
  {
   "cell_type": "markdown",
   "metadata": {},
   "source": [
    "把所有的程序放進來，我們定義verify_twid函數:"
   ]
  },
  {
   "cell_type": "code",
   "execution_count": 50,
   "metadata": {},
   "outputs": [],
   "source": [
    "def verify_twid(idstr):\n",
    "    \"\"\"檢查身分證字號。\n",
    "       如果通過，回傳True。否則，回傳False\"\"\"\n",
    "    #check length\n",
    "    if len(idstr) != 10:\n",
    "        return False\n",
    "    #check first letter\n",
    "    A2Z = ['A', 'B', 'C', 'D', 'E', 'F', 'G', 'H', \n",
    "           'I', 'J', 'K', 'L', 'M', 'N', 'O', 'P', \n",
    "           'Q', 'R', 'S', 'T', 'U', 'V', 'W', 'X', 'Y', 'Z']\n",
    "    if idstr[0] not in A2Z:\n",
    "        return False\n",
    "    \n",
    "    if idstr[1] not in ['1', '2']:\n",
    "        return False\n",
    "    \n",
    "    alldigit = ['0', '1', '2', '3', '4', '5',\n",
    "                '6', '7', '8', '9']\n",
    "    \n",
    "    for achar in idstr[2:]:\n",
    "        if achar not in alldigit:\n",
    "            return False\n",
    "    \n",
    "    cmap = {'A': 10, 'B': 11, 'C': 12, 'D': 13, 'E': 14, 'F': 15, 'G': 16,\n",
    "            'H': 17, 'I': 34, 'J': 18, 'K': 19, 'L': 20, 'M': 21, 'N': 22,\n",
    "            'O': 35, 'P': 23, 'Q': 24, \"R\": 25, 'S': 26, 'T': 27, 'U': 28,\n",
    "            'V': 29, 'W': 32, 'X': 30, 'Y': 31, 'Z': 33}\n",
    "\n",
    "    num1 = cmap[idstr[0]]\n",
    "    newid = str(num1) + idstr[1:]    \n",
    "    weight = [1, 9, 8, 7, 6, 5, 4, 3, 2, 1, 1]\n",
    "    checksum = 0\n",
    "    for i in range(0, 11):\n",
    "        checksum += weight[i] * int(newid[i])    \n",
    "    if checksum % 10 == 0:\n",
    "        return True\n",
    "    else:\n",
    "        return False\n"
   ]
  },
  {
   "cell_type": "markdown",
   "metadata": {},
   "source": [
    "確認一些已知的例子:"
   ]
  },
  {
   "cell_type": "code",
   "execution_count": 52,
   "metadata": {},
   "outputs": [
    {
     "data": {
      "text/plain": [
       "True"
      ]
     },
     "execution_count": 52,
     "metadata": {},
     "output_type": "execute_result"
    }
   ],
   "source": [
    "verify_twid('A123456789')"
   ]
  },
  {
   "cell_type": "code",
   "execution_count": 53,
   "metadata": {},
   "outputs": [
    {
     "data": {
      "text/plain": [
       "False"
      ]
     },
     "execution_count": 53,
     "metadata": {},
     "output_type": "execute_result"
    }
   ],
   "source": [
    "verify_twid('A123456788')"
   ]
  },
  {
   "cell_type": "code",
   "execution_count": 54,
   "metadata": {},
   "outputs": [],
   "source": [
    "# 試試你自己的身分證字號吧!\n",
    "\n",
    "\n"
   ]
  }
 ],
 "metadata": {
  "kernelspec": {
   "display_name": "Python 3",
   "language": "python",
   "name": "python3"
  },
  "language_info": {
   "codemirror_mode": {
    "name": "ipython",
    "version": 3
   },
   "file_extension": ".py",
   "mimetype": "text/x-python",
   "name": "python",
   "nbconvert_exporter": "python",
   "pygments_lexer": "ipython3",
   "version": "3.7.4"
  }
 },
 "nbformat": 4,
 "nbformat_minor": 4
}
