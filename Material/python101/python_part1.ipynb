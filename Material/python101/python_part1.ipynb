{
 "cells": [
  {
   "cell_type": "markdown",
   "metadata": {},
   "source": [
    "# Python Part 1\n",
    "# Python 101 (基礎教學)\n",
    "\n",
    "Python為一種直譯式語言，意思是有一個Python的直譯器，也就是\"翻譯裝置\"會將你的程式碼翻譯成電腦需要執行的工作，然後執行，並輸出結果。\n",
    "\n",
    "比如說下面這個簡單的程式："
   ]
  },
  {
   "cell_type": "code",
   "execution_count": 6,
   "metadata": {},
   "outputs": [
    {
     "name": "stdout",
     "output_type": "stream",
     "text": [
      "Hello World!\n"
     ]
    }
   ],
   "source": [
    "print(\"Hello World!\")"
   ]
  },
  {
   "cell_type": "markdown",
   "metadata": {},
   "source": [
    "Python直譯器知道```print```是要輸出文字訊息，然後這個訊息是 ```Hello World!```。因此我們看到這行程式執行之後，下面輸出了\"Hello World!\"。"
   ]
  },
  {
   "cell_type": "markdown",
   "metadata": {},
   "source": [
    "## 把Python當計算機用\n",
    "一個跟Python建立感情的方式是把Python當計算機用，比如："
   ]
  },
  {
   "cell_type": "code",
   "execution_count": 7,
   "metadata": {},
   "outputs": [
    {
     "data": {
      "text/plain": [
       "7"
      ]
     },
     "execution_count": 7,
     "metadata": {},
     "output_type": "execute_result"
    }
   ],
   "source": [
    "3+4"
   ]
  },
  {
   "cell_type": "code",
   "execution_count": 8,
   "metadata": {},
   "outputs": [
    {
     "data": {
      "text/plain": [
       "23"
      ]
     },
     "execution_count": 8,
     "metadata": {},
     "output_type": "execute_result"
    }
   ],
   "source": [
    "3+4*5"
   ]
  },
  {
   "cell_type": "markdown",
   "metadata": {},
   "source": [
    "在下面試試你的算式："
   ]
  },
  {
   "cell_type": "code",
   "execution_count": null,
   "metadata": {},
   "outputs": [],
   "source": []
  },
  {
   "cell_type": "markdown",
   "metadata": {},
   "source": [
    "## 定義變數\n",
    "我們可以將數值、文字、或任何資料儲存在變數中。一般可以把變數想像成一個盒子，數字或資料是放在盒子裡的東西，而變數名稱則是寫在盒子外面方便你尋找這個盒子的記號。"
   ]
  },
  {
   "cell_type": "code",
   "execution_count": 9,
   "metadata": {},
   "outputs": [
    {
     "name": "stdout",
     "output_type": "stream",
     "text": [
      "11\n"
     ]
    }
   ],
   "source": [
    "a=3\n",
    "b=5\n",
    "c=a * 2 + b\n",
    "print(c)"
   ]
  },
  {
   "cell_type": "markdown",
   "metadata": {},
   "source": [
    "在Python中，變數會隨著你指定的資料型態不同，自行調整成適合的類別。比如說，"
   ]
  },
  {
   "cell_type": "code",
   "execution_count": 10,
   "metadata": {},
   "outputs": [],
   "source": [
    "d = 3\n",
    "e = 4.2\n",
    "f = \"今天天氣很好\""
   ]
  },
  {
   "cell_type": "code",
   "execution_count": 11,
   "metadata": {},
   "outputs": [
    {
     "data": {
      "text/plain": [
       "int"
      ]
     },
     "execution_count": 11,
     "metadata": {},
     "output_type": "execute_result"
    }
   ],
   "source": [
    "type(d)"
   ]
  },
  {
   "cell_type": "code",
   "execution_count": 12,
   "metadata": {},
   "outputs": [
    {
     "data": {
      "text/plain": [
       "float"
      ]
     },
     "execution_count": 12,
     "metadata": {},
     "output_type": "execute_result"
    }
   ],
   "source": [
    "type(e)"
   ]
  },
  {
   "cell_type": "code",
   "execution_count": 13,
   "metadata": {},
   "outputs": [
    {
     "data": {
      "text/plain": [
       "str"
      ]
     },
     "execution_count": 13,
     "metadata": {},
     "output_type": "execute_result"
    }
   ],
   "source": [
    "type(f)"
   ]
  },
  {
   "cell_type": "markdown",
   "metadata": {},
   "source": [
    "上面這個例子可以看到f的資料型別是str，也就是字串。d跟e各為int(整數)與float (浮點數)。\n",
    "\n",
    "對初學者而言，資料型別是一個很抽象的觀念。不過大致上來說可以理解成不同種類的東西會有不同的特性。比如說，把兩個浮點數加起來對應到大家熟悉的加法："
   ]
  },
  {
   "cell_type": "code",
   "execution_count": 14,
   "metadata": {},
   "outputs": [
    {
     "name": "stdout",
     "output_type": "stream",
     "text": [
      "7.7\n"
     ]
    }
   ],
   "source": [
    "g = 3.2\n",
    "h = 4.5\n",
    "i = g + h\n",
    "print(i)"
   ]
  },
  {
   "cell_type": "markdown",
   "metadata": {},
   "source": [
    "然而把兩個字串加起來則是把兩個字串連接成一個較長的字串："
   ]
  },
  {
   "cell_type": "code",
   "execution_count": 15,
   "metadata": {},
   "outputs": [
    {
     "name": "stdout",
     "output_type": "stream",
     "text": [
      "天天天藍\n"
     ]
    }
   ],
   "source": [
    "j = \"天天\"\n",
    "k = \"天藍\"\n",
    "l = j + k\n",
    "print(l)"
   ]
  },
  {
   "cell_type": "markdown",
   "metadata": {},
   "source": [
    "要特別注意的是，兩種不同資料型態的變數進行運算時（如上面看到的加法），Python會試圖做適當的型別轉換。\n",
    "\n",
    "如果Python發現無法用現有的規則處理，就會跳出錯誤訊息。\n",
    "比如說，我們把一個整數與浮點數相加："
   ]
  },
  {
   "cell_type": "code",
   "execution_count": 16,
   "metadata": {},
   "outputs": [
    {
     "name": "stdout",
     "output_type": "stream",
     "text": [
      "6.2\n"
     ]
    },
    {
     "data": {
      "text/plain": [
       "float"
      ]
     },
     "execution_count": 16,
     "metadata": {},
     "output_type": "execute_result"
    }
   ],
   "source": [
    "m = d + g\n",
    "print(m)\n",
    "type(m)"
   ]
  },
  {
   "cell_type": "markdown",
   "metadata": {},
   "source": [
    "這時Python會把d跟g都轉成float之後運算，然後放到一個新的變數中。\n",
    "\n",
    "但如果是浮點數與字串相加會發生什麼事呢？"
   ]
  },
  {
   "cell_type": "code",
   "execution_count": 17,
   "metadata": {},
   "outputs": [
    {
     "ename": "TypeError",
     "evalue": "can only concatenate str (not \"float\") to str",
     "output_type": "error",
     "traceback": [
      "\u001b[1;31m---------------------------------------------------------------------------\u001b[0m",
      "\u001b[1;31mTypeError\u001b[0m                                 Traceback (most recent call last)",
      "\u001b[1;32m<ipython-input-17-aca70a931bad>\u001b[0m in \u001b[0;36m<module>\u001b[1;34m\u001b[0m\n\u001b[1;32m----> 1\u001b[1;33m \u001b[0mn\u001b[0m \u001b[1;33m=\u001b[0m \u001b[0mj\u001b[0m \u001b[1;33m+\u001b[0m \u001b[0mg\u001b[0m\u001b[1;33m\u001b[0m\u001b[1;33m\u001b[0m\u001b[0m\n\u001b[0m",
      "\u001b[1;31mTypeError\u001b[0m: can only concatenate str (not \"float\") to str"
     ]
    }
   ],
   "source": [
    "n = j + g"
   ]
  },
  {
   "cell_type": "markdown",
   "metadata": {},
   "source": [
    "這就會出現錯誤訊息，因為沒有適當的規則可以處理這個運算與型別轉換。\n",
    "\n",
    "也許大家一時對Python有的資料型別無法完全掌握，但需要有正確的觀念，也就是變數有形別，而運算時可能會涉及型別的轉換。"
   ]
  },
  {
   "cell_type": "markdown",
   "metadata": {},
   "source": [
    "也許大家會好奇上面這個問題要怎麼處理。如果你的目的是要將\"天天\"跟3.2串起來成一個新的字串，那就必須自己做型別的轉換"
   ]
  },
  {
   "cell_type": "code",
   "execution_count": 18,
   "metadata": {},
   "outputs": [
    {
     "data": {
      "text/plain": [
       "'天天3.2'"
      ]
     },
     "execution_count": 18,
     "metadata": {},
     "output_type": "execute_result"
    }
   ],
   "source": [
    "j + str(g)"
   ]
  },
  {
   "cell_type": "markdown",
   "metadata": {},
   "source": [
    "## 字串的基本觀念\n",
    "\n",
    "字串的基本觀念與操作是資料處理與分析很重要的部份。我們將在這裡介紹幾個基本的概念。首先，假設我們想要印出這兩行文字：\n",
    "\n",
    "<pre>道可道也，非恆道也。\n",
    "名可名也，非恆名也。</pre>\n",
    "\n",
    "這兩行文字可以視為一個字串，中間有一個換行符號。\n",
    "\n",
    "要說明這個觀念，我們先考慮沒有換行的狀況："
   ]
  },
  {
   "cell_type": "code",
   "execution_count": 19,
   "metadata": {},
   "outputs": [
    {
     "name": "stdout",
     "output_type": "stream",
     "text": [
      "道可道也，非恆道也。名可名也，非恆名也。\n"
     ]
    }
   ],
   "source": [
    "str1 = \"道可道也，非恆道也。名可名也，非恆名也。\"\n",
    "print(str1)"
   ]
  },
  {
   "cell_type": "markdown",
   "metadata": {},
   "source": [
    "Python換行字元是```\\n```。也就是說，我們可以這樣做："
   ]
  },
  {
   "cell_type": "code",
   "execution_count": 20,
   "metadata": {},
   "outputs": [
    {
     "name": "stdout",
     "output_type": "stream",
     "text": [
      "道可道也，非恆道也。\n",
      "名可名也，非恆名也。\n"
     ]
    }
   ],
   "source": [
    "str2 = \"道可道也，非恆道也。\\n名可名也，非恆名也。\"\n",
    "print(str2)"
   ]
  },
  {
   "cell_type": "markdown",
   "metadata": {},
   "source": [
    "為什麼要用一個特殊符號來代表換行呢？ 因為Python語言一般是以一行作為一個單位，因此下面的敘述語法不對："
   ]
  },
  {
   "cell_type": "code",
   "execution_count": 21,
   "metadata": {},
   "outputs": [
    {
     "ename": "SyntaxError",
     "evalue": "EOL while scanning string literal (<ipython-input-21-d82f0e392000>, line 1)",
     "output_type": "error",
     "traceback": [
      "\u001b[1;36m  File \u001b[1;32m\"<ipython-input-21-d82f0e392000>\"\u001b[1;36m, line \u001b[1;32m1\u001b[0m\n\u001b[1;33m    str3 = \"道可道也，非恆道也。\u001b[0m\n\u001b[1;37m                      ^\u001b[0m\n\u001b[1;31mSyntaxError\u001b[0m\u001b[1;31m:\u001b[0m EOL while scanning string literal\n"
     ]
    }
   ],
   "source": [
    "str3 = \"道可道也，非恆道也。\n",
    "名可名也，非恆名也。\"\n",
    "print(str3)"
   ]
  },
  {
   "cell_type": "markdown",
   "metadata": {},
   "source": [
    "當然，使用換行符號不是唯一的解決方案。另一個作法是使用神奇的三連引號："
   ]
  },
  {
   "cell_type": "code",
   "execution_count": 22,
   "metadata": {},
   "outputs": [
    {
     "name": "stdout",
     "output_type": "stream",
     "text": [
      "道可道也，非恆道也。\n",
      "名可名也，非恆名也。\n"
     ]
    }
   ],
   "source": [
    "str4 = \"\"\"道可道也，非恆道也。\n",
    "名可名也，非恆名也。\"\"\"\n",
    "print(str4)"
   ]
  },
  {
   "cell_type": "markdown",
   "metadata": {},
   "source": [
    "三連引號可以包含換行字元，而一般的雙引號或單引號不行。"
   ]
  },
  {
   "cell_type": "markdown",
   "metadata": {},
   "source": [
    "### 神奇的反斜線\n",
    "\n",
    "之前介紹的換行符號```\\n```包含了一個反斜線(\\)。這個反斜線在Python程式語言有特殊的地位。一系列的\"控制字元\"，如換行或是Tab（定位字元; ```\\t```）都由反斜線開頭。這個特殊的字元又被稱為跳脫字元，也就是如果在字串中看到這個字元，接下來的字元的意義與一般狀況不同。\n",
    "\n",
    "然而，這個設計讓我們無法直接在字串中表示反斜線。因此Python定義如果要印出反斜線，需要使用兩個連續的反斜線。例如："
   ]
  },
  {
   "cell_type": "code",
   "execution_count": 23,
   "metadata": {},
   "outputs": [
    {
     "name": "stdout",
     "output_type": "stream",
     "text": [
      "紅、綠\\紫\n"
     ]
    }
   ],
   "source": [
    "str5 = \"紅、綠\\\\紫\"\n",
    "print(str5)"
   ]
  },
  {
   "cell_type": "markdown",
   "metadata": {},
   "source": [
    "為什麼要幫反斜線解釋這麼多呢？ 因為在操作檔案路徑時，常會遇到反斜線。主要的原因是Windows作業系統使用反斜線表示目錄階層。比如說，```C:\\Users\\小歡\\程式學習\\第一課\\test.py```為一個檔案的絕對路徑。在其他的作業系統 (如Linux)是使用斜線(/)而不是反斜線。\n",
    "\n",
    "使用反斜線表示目錄階乘讓我們在表示檔案路徑時需要多費心。通常我們可以把所有的反斜線由一個變兩個，就可以處理掉反斜線本身是跳脫字元這件事："
   ]
  },
  {
   "cell_type": "code",
   "execution_count": 24,
   "metadata": {},
   "outputs": [
    {
     "name": "stdout",
     "output_type": "stream",
     "text": [
      "C:\\Users\\小歡\\程式學習\\第一課\\test.py\n"
     ]
    }
   ],
   "source": [
    "str6 = \"C:\\\\Users\\\\小歡\\\\程式學習\\\\第一課\\\\test.py\"\n",
    "print(str6)"
   ]
  },
  {
   "cell_type": "markdown",
   "metadata": {},
   "source": [
    "另一個偷懶的方法是在原本字串定義前面加上```r```，這告訴Python後面跟的字串反斜線不視為跳脫字元："
   ]
  },
  {
   "cell_type": "code",
   "execution_count": 25,
   "metadata": {},
   "outputs": [
    {
     "name": "stdout",
     "output_type": "stream",
     "text": [
      "C:\\Users\\小歡\\程式學習\\第一課\\test.py\n"
     ]
    }
   ],
   "source": [
    "str7 = r\"C:\\Users\\小歡\\程式學習\\第一課\\test.py\"\n",
    "print(str7)"
   ]
  },
  {
   "cell_type": "markdown",
   "metadata": {},
   "source": [
    "## 迴圈\n",
    "迴圈可以用來執行重複行的工作。比如說，我們想知道攝氏20, 21, 22, 23, 24, 25, 26, 27, 28, 29, 30各對應到華氏幾度？\n",
    "\n",
    "首先華氏與攝氏的轉換公式：\n",
    "\n",
    "$$ y = \\frac{9}{5} x  + 32, $$\n",
    "\n",
    "其中$x$為攝氏溫度，$y$為華氏溫度。\n",
    "\n",
    "因此一個簡單的作法是："
   ]
  },
  {
   "cell_type": "code",
   "execution_count": 26,
   "metadata": {},
   "outputs": [
    {
     "name": "stdout",
     "output_type": "stream",
     "text": [
      "攝氏= 20 華氏= 68.0\n"
     ]
    }
   ],
   "source": [
    "x = 20\n",
    "y = x * 9 / 5 + 32\n",
    "print(\"攝氏=\", x, \"華氏=\", y)"
   ]
  },
  {
   "cell_type": "markdown",
   "metadata": {},
   "source": [
    "當然，我們必須將x改成21, 22, ...至30, 然後重複上面的步驟。\n",
    "\n",
    "然到沒有更好的方法嗎？\n",
    "\n",
    "...."
   ]
  },
  {
   "cell_type": "markdown",
   "metadata": {},
   "source": [
    "我們在這裡介紹迴圈的概念，可以優雅的處理這個狀況。\n",
    "\n",
    "先看一個簡單的例子："
   ]
  },
  {
   "cell_type": "code",
   "execution_count": 27,
   "metadata": {},
   "outputs": [
    {
     "name": "stdout",
     "output_type": "stream",
     "text": [
      "This is 3\n",
      "This is 4\n",
      "This is 5\n",
      "This is 6\n",
      "This is 7\n"
     ]
    }
   ],
   "source": [
    "for i in range(3, 8):\n",
    "    print(\"This is\", i)"
   ]
  },
  {
   "cell_type": "markdown",
   "metadata": {},
   "source": [
    "在上面的例子裡，range(3, 8)會產生3到7的整數，然後依序指派給$i$，接著把數值印出來。你可以透過修改range的兩個參數，改變開始跟結束的數值。"
   ]
  },
  {
   "cell_type": "markdown",
   "metadata": {},
   "source": [
    "#### Python的縮排與區塊\n",
    "\n",
    "Python利用縮排定義出區塊的結構。這不同於C語言利用大括號達到同樣的目的。\n",
    "\n",
    "縮排可以用空格或是Tab來定義。只要有同樣數量的前置空白或Tab就算是在同一個區塊結構中。\n",
    "\n",
    "由於視覺上空格與Tab難以區分，建議不要使用Tab，全部使用空格。\n",
    "\n",
    "一般來說，一個區塊結構是四個空白，見上面的例子。"
   ]
  },
  {
   "cell_type": "markdown",
   "metadata": {},
   "source": [
    "任務一：改變range的兩個參數，看看有什麼改變\n",
    "任務二：range可以接受第三個參數，試試range(3, 8, 2)。這第三個參數的功能是什麼？"
   ]
  },
  {
   "cell_type": "code",
   "execution_count": 28,
   "metadata": {},
   "outputs": [
    {
     "name": "stdout",
     "output_type": "stream",
     "text": [
      "This is 3\n",
      "This is 4\n",
      "This is 5\n",
      "This is 6\n",
      "This is 7\n"
     ]
    }
   ],
   "source": [
    "#任務測試區\n",
    "for i in range(3, 8):\n",
    "    print(\"This is\", i)"
   ]
  },
  {
   "cell_type": "markdown",
   "metadata": {},
   "source": [
    "有了這些觀念，現在應該可以處理攝氏華氏轉換的問題了："
   ]
  },
  {
   "cell_type": "code",
   "execution_count": 29,
   "metadata": {},
   "outputs": [
    {
     "name": "stdout",
     "output_type": "stream",
     "text": [
      "攝氏= 20 華氏= 68.0\n",
      "攝氏= 21 華氏= 69.8\n",
      "攝氏= 22 華氏= 71.6\n",
      "攝氏= 23 華氏= 73.4\n",
      "攝氏= 24 華氏= 75.2\n",
      "攝氏= 25 華氏= 77.0\n",
      "攝氏= 26 華氏= 78.8\n",
      "攝氏= 27 華氏= 80.6\n",
      "攝氏= 28 華氏= 82.4\n",
      "攝氏= 29 華氏= 84.2\n",
      "攝氏= 30 華氏= 86.0\n"
     ]
    }
   ],
   "source": [
    "for x in range(20, 31):\n",
    "    y = x * 9 / 5 + 32\n",
    "    print(\"攝氏=\", x, \"華氏=\", y)"
   ]
  },
  {
   "cell_type": "markdown",
   "metadata": {},
   "source": [
    "## 流程控制: if-elif-else"
   ]
  },
  {
   "cell_type": "markdown",
   "metadata": {},
   "source": [
    "Python中的if判斷式語法如下:\n",
    "```python\n",
    "if 條件1:\n",
    "    程式區塊1\n",
    "elif 條件2:\n",
    "    程式區塊2\n",
    "else:\n",
    "    程式區塊3\n",
    "```"
   ]
  },
  {
   "cell_type": "markdown",
   "metadata": {},
   "source": [
    "比較簡單的狀況是:\n",
    "```python\n",
    "if 條件1:\n",
    "    程式區塊1\n",
    "else:\n",
    "    程式區塊3\n",
    "```    "
   ]
  },
  {
   "cell_type": "markdown",
   "metadata": {},
   "source": [
    "更簡單的狀況是:\n",
    "```python\n",
    "if 條件1:\n",
    "    程式區塊1\n",
    "```        "
   ]
  },
  {
   "cell_type": "markdown",
   "metadata": {},
   "source": [
    "考慮一個簡單的狀況，如果成績大於或等於60分，印出及格，否則印出不及格:"
   ]
  },
  {
   "cell_type": "code",
   "execution_count": 4,
   "metadata": {},
   "outputs": [
    {
     "name": "stdout",
     "output_type": "stream",
     "text": [
      "及格\n"
     ]
    }
   ],
   "source": [
    "score = 62\n",
    "\n",
    "if score >= 60:\n",
    "    print(\"及格\")\n",
    "else:\n",
    "    print(\"不及格\")"
   ]
  },
  {
   "cell_type": "markdown",
   "metadata": {},
   "source": [
    "試著改變 `score = 61`，觀察變化。"
   ]
  },
  {
   "cell_type": "markdown",
   "metadata": {},
   "source": [
    "如果狀況複雜一點，如果分數 >= 90分，則印出\"及格: A+\"。如果大於或等於60分，且小於90分，則印出\"及格\"。如果低於60分，則印出\"不及格\"。"
   ]
  },
  {
   "cell_type": "code",
   "execution_count": 7,
   "metadata": {},
   "outputs": [
    {
     "name": "stdout",
     "output_type": "stream",
     "text": [
      "不及格\n"
     ]
    }
   ],
   "source": [
    "score = 59\n",
    "\n",
    "if score >= 90:\n",
    "    print(\"及格: A+\")\n",
    "elif score >=60:\n",
    "    print(\"及格\")\n",
    "else:\n",
    "    print(\"不及格\")"
   ]
  },
  {
   "cell_type": "markdown",
   "metadata": {},
   "source": [
    "***\n"
   ]
  },
  {
   "cell_type": "markdown",
   "metadata": {},
   "source": [
    "## 動動手，動動腦\n",
    "\n",
    "我們在上面介紹了Python的基本語法。現在來練習一下。"
   ]
  },
  {
   "cell_type": "markdown",
   "metadata": {},
   "source": [
    "### 問題一\n",
    "阿花需要讀取在```C:\\Users\\阿花\\proj1\\```中的五個檔案，這五個檔案的名稱分別是data1.csv, data2.csv, data3.csv, data4.csv, 跟data5.csv。請幫他依序產生並印出五個字串，內容為這五個檔案的絕對路徑。也就是請利用迴圈的手段，印出下列內容：\n",
    "<pre>C:\\Users\\阿花\\proj1\\data1.csv\n",
    "C:\\Users\\阿花\\proj1\\data2.csv\n",
    "C:\\Users\\阿花\\proj1\\data3.csv\n",
    "C:\\Users\\阿花\\proj1\\data4.csv\n",
    "C:\\Users\\阿花\\proj1\\data5.csv</pre>\n"
   ]
  },
  {
   "cell_type": "code",
   "execution_count": 30,
   "metadata": {},
   "outputs": [],
   "source": [
    "#在這裡嘗試你的作法\n",
    "\n",
    "\n",
    "\n",
    "\n",
    "\n",
    "\n",
    "\n",
    "\n",
    "\n"
   ]
  },
  {
   "cell_type": "code",
   "execution_count": 31,
   "metadata": {},
   "outputs": [
    {
     "name": "stdout",
     "output_type": "stream",
     "text": [
      "C:\\Users\\阿花\\proj1\\data1.csv\n",
      "C:\\Users\\阿花\\proj1\\data2.csv\n",
      "C:\\Users\\阿花\\proj1\\data3.csv\n",
      "C:\\Users\\阿花\\proj1\\data4.csv\n",
      "C:\\Users\\阿花\\proj1\\data5.csv\n"
     ]
    }
   ],
   "source": [
    "#參考解答\n",
    "\n",
    "for i in range(1, 6):\n",
    "    fn = \"C:\\\\Users\\\\阿花\\proj1\\\\data\" + str(i) + \".csv\"\n",
    "    print(fn)"
   ]
  },
  {
   "cell_type": "markdown",
   "metadata": {},
   "source": [
    "***\n",
    "### 問題二\n",
    "Python有一系列製作格式化字串的作法，比如說："
   ]
  },
  {
   "cell_type": "code",
   "execution_count": 32,
   "metadata": {},
   "outputs": [
    {
     "name": "stdout",
     "output_type": "stream",
     "text": [
      "s = 3\n",
      "s = 03\n"
     ]
    }
   ],
   "source": [
    "s = 3\n",
    "str2 = \"s = %d\" % s\n",
    "str3 = \"s = %02d\" %s\n",
    "print(str2)\n",
    "print(str3)"
   ]
  },
  {
   "cell_type": "markdown",
   "metadata": {},
   "source": [
    "上面的例子裡，```%d```是一個特別的符號，代表這個位子保留個一個整數，後面```%```則是要用來取代```%d```的變數數值。因此str2的內容會是```s = 3```。\n",
    "\n",
    "令一個類似的格式是```%02d```，意思是保留兩個格子給這個整數，如果位數不足兩位，前面補零。因此str3的內容為```s = 03```。"
   ]
  },
  {
   "cell_type": "markdown",
   "metadata": {},
   "source": [
    "我們這題的任務是，假設在```C:\\Users\\阿花\\proj1\\```中的五個檔案，這五個檔案的名稱分別是data01.csv, data02.csv, data03.csv, data04.csv, 跟data05.csv。利用剛剛介紹的技巧，印出這個檔案的絕對路徑：\n",
    "<pre>C:\\Users\\阿花\\proj1\\data01.csv\n",
    "C:\\Users\\阿花\\proj1\\data02.csv\n",
    "C:\\Users\\阿花\\proj1\\data03.csv\n",
    "C:\\Users\\阿花\\proj1\\data04.csv\n",
    "C:\\Users\\阿花\\proj1\\data05.csv</pre>"
   ]
  },
  {
   "cell_type": "code",
   "execution_count": 33,
   "metadata": {},
   "outputs": [],
   "source": [
    "#在這裡嘗試你的作法\n",
    "\n",
    "\n",
    "\n",
    "\n",
    "\n",
    "\n",
    "\n",
    "\n",
    "\n",
    "\n",
    "\n",
    "\n"
   ]
  },
  {
   "cell_type": "code",
   "execution_count": 34,
   "metadata": {},
   "outputs": [
    {
     "name": "stdout",
     "output_type": "stream",
     "text": [
      "C:\\Users\\阿花\\proj1\\data01.csv\n",
      "C:\\Users\\阿花\\proj1\\data02.csv\n",
      "C:\\Users\\阿花\\proj1\\data03.csv\n",
      "C:\\Users\\阿花\\proj1\\data04.csv\n",
      "C:\\Users\\阿花\\proj1\\data05.csv\n"
     ]
    }
   ],
   "source": [
    "#參考解答\n",
    "\n",
    "for i in range(1, 6):\n",
    "    fn = \"C:\\\\Users\\\\阿花\\proj1\\\\data%02d.csv\"%  i\n",
    "    print(fn)"
   ]
  },
  {
   "cell_type": "markdown",
   "metadata": {},
   "source": [
    "***\n",
    "### 問題三\n",
    "給定分數儲存在score內，依照score的數值，參照下表印出結果\n",
    "\n",
    "* $score >=90$, 及格: A+\n",
    "* $85 <= score < 90$, 及格: A\n",
    "* $80 <= score < 85$, 及格: A-\n",
    "* $70 <= score < 80$, 及格: B\n",
    "* $60 <= score < 70$, 及格: C\n",
    "* $score < 60$, 不及格\n"
   ]
  },
  {
   "cell_type": "code",
   "execution_count": 8,
   "metadata": {},
   "outputs": [],
   "source": [
    "#在這裡嘗試你的作法\n",
    "\n",
    "\n",
    "\n",
    "\n",
    "\n",
    "\n",
    "\n"
   ]
  },
  {
   "cell_type": "code",
   "execution_count": 10,
   "metadata": {},
   "outputs": [
    {
     "name": "stdout",
     "output_type": "stream",
     "text": [
      "及格: B\n"
     ]
    }
   ],
   "source": [
    "#參考解答\n",
    "\n",
    "\n",
    "score = 73\n",
    "\n",
    "if score >= 90:\n",
    "    print(\"及格: A+\")\n",
    "elif score >=85:\n",
    "    print(\"及格: A\")\n",
    "elif score >= 80:\n",
    "    print(\"及格: A-\")\n",
    "elif score >=70:\n",
    "    print(\"及格: B\")\n",
    "elif score >= 60:\n",
    "    print(\"及格: C\")\n",
    "else:\n",
    "    print(\"不及格\")\n"
   ]
  }
 ],
 "metadata": {
  "kernelspec": {
   "display_name": "Python 3",
   "language": "python",
   "name": "python3"
  },
  "language_info": {
   "codemirror_mode": {
    "name": "ipython",
    "version": 3
   },
   "file_extension": ".py",
   "mimetype": "text/x-python",
   "name": "python",
   "nbconvert_exporter": "python",
   "pygments_lexer": "ipython3",
   "version": "3.7.4"
  }
 },
 "nbformat": 4,
 "nbformat_minor": 4
}
