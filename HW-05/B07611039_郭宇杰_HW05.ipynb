{
 "cells": [
  {
   "cell_type": "markdown",
   "metadata": {},
   "source": [
    "# Stat HW05 by 郭宇杰, B07611039"
   ]
  },
  {
   "cell_type": "code",
   "execution_count": 1,
   "metadata": {},
   "outputs": [],
   "source": [
    "import ete3\n",
    "import numpy as np"
   ]
  },
  {
   "cell_type": "code",
   "execution_count": 2,
   "metadata": {},
   "outputs": [],
   "source": [
    "from ete3 import Tree"
   ]
  },
  {
   "cell_type": "code",
   "execution_count": 1,
   "metadata": {},
   "outputs": [
    {
     "name": "stdout",
     "output_type": "stream",
     "text": [
      "\u001b[33mDEPRECATION: Python 2.7 reached the end of its life on January 1st, 2020. Please upgrade your Python as Python 2.7 is no longer maintained. pip 21.0 will drop support for Python 2.7 in January 2021. More details about Python 2 support in pip can be found at https://pip.pypa.io/en/latest/development/release-process/#python-2-support pip 21.0 will remove support for this functionality.\u001b[0m\n",
      "Defaulting to user installation because normal site-packages is not writeable\n",
      "Collecting ete3\n",
      "  Using cached ete3-3.1.2.tar.gz (4.7 MB)\n",
      "Building wheels for collected packages: ete3\n",
      "  Building wheel for ete3 (setup.py) ... \u001b[?25ldone\n",
      "\u001b[?25h  Created wheel for ete3: filename=ete3-3.1.2-py2-none-any.whl size=2272997 sha256=a3321f84f4768851c2f730acdb430d13cd08142f24d059e35ddbc9439965da25\n",
      "  Stored in directory: /Users/ujkuo/Library/Caches/pip/wheels/de/e4/ca/37f47972cb7bce3498525ebfa14036f30c9db1ae476ea0f86a\n",
      "Successfully built ete3\n",
      "Installing collected packages: ete3\n",
      "\u001b[33m  WARNING: The script ete3 is installed in '/Users/ujkuo/Library/Python/2.7/bin' which is not on PATH.\n",
      "  Consider adding this directory to PATH or, if you prefer to suppress this warning, use --no-warn-script-location.\u001b[0m\n",
      "Successfully installed ete3-3.1.2\n",
      "\u001b[33mWARNING: You are using pip version 20.2.3; however, version 20.2.4 is available.\n",
      "You should consider upgrading via the '/System/Library/Frameworks/Python.framework/Versions/2.7/Resources/Python.app/Contents/MacOS/Python -m pip install --upgrade pip' command.\u001b[0m\n"
     ]
    }
   ],
   "source": [
    "!pip install ete3"
   ]
  },
  {
   "cell_type": "code",
   "execution_count": 3,
   "metadata": {},
   "outputs": [],
   "source": [
    "from ete3 import Tree, faces, TreeStyle, TextFace"
   ]
  },
  {
   "cell_type": "markdown",
   "metadata": {},
   "source": [
    "### 6.3\n",
    "\n",
    "- a\n",
    "\n",
    "The sample space is $S = \\{ a,b,c,d,e \\}$ where denote $a, b, c, d, e$ as five possible answers for a multiple-choice-question.\n",
    "\n",
    "- b \n",
    "\n",
    "$P(a) = P(b) = P(c) = P(d) = P(e) = \\frac{1}{5}$\n",
    "\n",
    "- c\n",
    "\n",
    "classical approach\n",
    "\n",
    "- d \n",
    "\n",
    "Since we have 5 options and the probability of each option is equal."
   ]
  },
  {
   "cell_type": "markdown",
   "metadata": {},
   "source": [
    "### 6.17\n",
    "- a"
   ]
  },
  {
   "cell_type": "code",
   "execution_count": 3,
   "metadata": {},
   "outputs": [
    {
     "name": "stdout",
     "output_type": "stream",
     "text": [
      "P(Individual speaks Spanish) =  0.6193548387096774\n"
     ]
    }
   ],
   "source": [
    "sum = 38.4 + 3.0 + 1.6 + 1.4 + 1.3 + 1.1 + 15.2\n",
    "print(\"P(Individual speaks Spanish) = \", 38.4 / sum)"
   ]
  },
  {
   "cell_type": "markdown",
   "metadata": {},
   "source": [
    "- b"
   ]
  },
  {
   "cell_type": "code",
   "execution_count": 4,
   "metadata": {},
   "outputs": [
    {
     "name": "stdout",
     "output_type": "stream",
     "text": [
      "P(Individual speaks a language other than Spanish) =  0.38064516129032255\n"
     ]
    }
   ],
   "source": [
    "print(\"P(Individual speaks a language other than Spanish) = \", 1 - (38.4 / sum))"
   ]
  },
  {
   "cell_type": "markdown",
   "metadata": {},
   "source": [
    "- c"
   ]
  },
  {
   "cell_type": "code",
   "execution_count": 5,
   "metadata": {},
   "outputs": [
    {
     "name": "stdout",
     "output_type": "stream",
     "text": [
      "P(Individual speaks Vietnamese or French) =  0.043548387096774194\n"
     ]
    }
   ],
   "source": [
    "print(\"P(Individual speaks Vietnamese or French) = \", (1.4 + 1.3) / sum)"
   ]
  },
  {
   "cell_type": "markdown",
   "metadata": {},
   "source": [
    "- d"
   ]
  },
  {
   "cell_type": "code",
   "execution_count": 6,
   "metadata": {},
   "outputs": [
    {
     "name": "stdout",
     "output_type": "stream",
     "text": [
      "P(Individual speaks one of the other languages) =  0.24516129032258063\n"
     ]
    }
   ],
   "source": [
    "print(\"P(Individual speaks one of the other languages) = \", 15.2 / sum)"
   ]
  },
  {
   "cell_type": "markdown",
   "metadata": {},
   "source": [
    "### 6.31\n",
    "- a"
   ]
  },
  {
   "cell_type": "code",
   "execution_count": 7,
   "metadata": {},
   "outputs": [
    {
     "name": "stdout",
     "output_type": "stream",
     "text": [
      "The rate of promotion among female assistant professors is  0.2\n"
     ]
    }
   ],
   "source": [
    "print(\"The rate of promotion among female assistant professors is \", 0.03 / (0.03 + 0.12) )"
   ]
  },
  {
   "cell_type": "markdown",
   "metadata": {},
   "source": [
    "- b"
   ]
  },
  {
   "cell_type": "code",
   "execution_count": 8,
   "metadata": {},
   "outputs": [
    {
     "name": "stdout",
     "output_type": "stream",
     "text": [
      "The rate of promotion among male assistant professors is  0.19999999999999998\n"
     ]
    }
   ],
   "source": [
    "print(\"The rate of promotion among male assistant professors is \", 0.17 / (0.17 + 0.68) )"
   ]
  },
  {
   "cell_type": "markdown",
   "metadata": {},
   "source": [
    "- c\n",
    "By observing the rate of promotions among female and male assistant professors, it can be concluded taht no gender biasedness in the university."
   ]
  },
  {
   "cell_type": "markdown",
   "metadata": {},
   "source": [
    "### 6.39\n",
    "- a\n",
    "\n",
    "P(25- to 54-year-old employee was laid off or fired because of insufficient work) = 0.18\n",
    "\n",
    "- b"
   ]
  },
  {
   "cell_type": "code",
   "execution_count": 10,
   "metadata": {},
   "outputs": [
    {
     "name": "stdout",
     "output_type": "stream",
     "text": [
      "The proportion of laid-off or fired workers is age 65 and older is 0.056\n"
     ]
    }
   ],
   "source": [
    "print(\"The proportion of laid-off or fired workers is age 65 and older is\", 0.029 + 0.011 + 0.016)"
   ]
  },
  {
   "cell_type": "markdown",
   "metadata": {},
   "source": [
    "- c"
   ]
  },
  {
   "cell_type": "markdown",
   "metadata": {},
   "source": [
    "P(a laid-off or fired worker because the plant or company closed is 65 or older) = 0.029"
   ]
  },
  {
   "cell_type": "markdown",
   "metadata": {},
   "source": [
    "### 6.55\n",
    "\n",
    "- a"
   ]
  },
  {
   "cell_type": "code",
   "execution_count": 11,
   "metadata": {},
   "outputs": [
    {
     "name": "stdout",
     "output_type": "stream",
     "text": [
      "P(one respondent selected at random would trust NBC News) is  0.4999\n"
     ]
    }
   ],
   "source": [
    "print(\"P(one respondent selected at random would trust NBC News) is \", 0.0896 + 0.1386 + 0.1944 + 0.0629 + 0.0144)"
   ]
  },
  {
   "cell_type": "markdown",
   "metadata": {},
   "source": [
    "- b\n",
    "\n",
    "P(a consistent Conservative would distrust NBC News) = 0.0558\n",
    "\n",
    "- c\n",
    "\n",
    "P(a consistent Liberal neither trusts nor distrusts NBC News) = 0.0576\n",
    "\n",
    "- d"
   ]
  },
  {
   "cell_type": "markdown",
   "metadata": {},
   "source": [
    "### 6.69\n",
    "Let $B$ = line is bust, $B^C$ = line is not busy, $S$ = sale, $S^C$ = does not sale.\n",
    "$P(S) = P(S | B^C) * P(B^C) = 0.05 * (1 - 0.2) = 0.04$"
   ]
  },
  {
   "cell_type": "markdown",
   "metadata": {},
   "source": [
    "### 6.75\n"
   ]
  },
  {
   "cell_type": "code",
   "execution_count": 12,
   "metadata": {},
   "outputs": [
    {
     "name": "stdout",
     "output_type": "stream",
     "text": [
      "P(a person is a consistent Liberal) =  0.16\n"
     ]
    }
   ],
   "source": [
    "print(\"P(a person is a consistent Liberal) = \", 0.0896 + 0.0096 + 0.0576 + 0.0032)"
   ]
  },
  {
   "cell_type": "markdown",
   "metadata": {},
   "source": [
    "### 6.83"
   ]
  },
  {
   "cell_type": "code",
   "execution_count": 13,
   "metadata": {},
   "outputs": [
    {
     "name": "stdout",
     "output_type": "stream",
     "text": [
      "Probability is  0.6475294117647059\n"
     ]
    }
   ],
   "source": [
    "print(\"Probability is \", (630 / 1700) * 0.62 + (590 / 1700) * 0.74 + (480 / 1700) * 0.57)"
   ]
  },
  {
   "cell_type": "markdown",
   "metadata": {},
   "source": [
    "### 6.91\n",
    "From the statement, we have\n",
    "P(BAC = 0 | Crash with fatality) = 0.616\n",
    "P(BAC is between 0.01 and 0.09 | Crash with fatality) = 0.300\n",
    "P(BAC is greater than 0.09 | Crash with fatality) = 0.084\n",
    "P(Crash with fatality) = 0.01\n",
    "P(BAC is greater than 0.09) = 0.12\n",
    "\n",
    "P(crash with fatality | BAC is greather than 0.09) = P(crash with fatality and BAC is greather than 0.09) / P(BAC is greather than 0.09) = 0.084 * 0.01 / 0.12 = 0.007\n",
    "\n",
    "So the answer is 0.007."
   ]
  }
 ],
 "metadata": {
  "kernelspec": {
   "display_name": "Python 3",
   "language": "python",
   "name": "python3"
  },
  "language_info": {
   "codemirror_mode": {
    "name": "ipython",
    "version": 3
   },
   "file_extension": ".py",
   "mimetype": "text/x-python",
   "name": "python",
   "nbconvert_exporter": "python",
   "pygments_lexer": "ipython3",
   "version": "3.8.5"
  }
 },
 "nbformat": 4,
 "nbformat_minor": 4
}
