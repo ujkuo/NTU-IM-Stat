{
 "cells": [
  {
   "cell_type": "markdown",
   "metadata": {},
   "source": [
    "# Stat HW03 by 郭宇杰, B07611039"
   ]
  },
  {
   "cell_type": "code",
   "execution_count": 2,
   "metadata": {},
   "outputs": [],
   "source": [
    "from matplotlib import pyplot as plt\n",
    "import seaborn as sns\n",
    "import pandas as pd\n",
    "import numpy as np\n",
    "import scipy.stats as stats\n",
    "import statsmodels.api as sm\n",
    "import statsmodels.stats.api as sms\n",
    "import statsmodels.formula.api as smf\n",
    "import math as math"
   ]
  },
  {
   "cell_type": "markdown",
   "metadata": {},
   "source": [
    "### 4.3\n",
    "- a"
   ]
  },
  {
   "cell_type": "code",
   "execution_count": 3,
   "metadata": {},
   "outputs": [
    {
     "name": "stdout",
     "output_type": "stream",
     "text": [
      "Mean:  8.541666666666666 Miles\n",
      "Median:  6.9 Miles\n",
      "There is no Mode.\n"
     ]
    }
   ],
   "source": [
    "\n",
    "### We can directly use the function in np to calculate the mean and median value instead of counting by ourself.\n",
    "def mean(data):\n",
    "    total = 0\n",
    "    for i in range(np.size(data)):\n",
    "        total += data[i]\n",
    "    return total / np.size(data)\n",
    "\n",
    "def median(data):\n",
    "    data.sort()\n",
    "    half = int(np.size(data)/2)\n",
    "    return (data[half] + data[half - 1]) / 2\n",
    "\n",
    "data = np.array([5.5, 7.2, 1.6, 22.0, 8.7, 2.8, 5.3, 3.4, 12.5, 18.6, 8.3, 6.6])\n",
    "\n",
    "mean_value = np.mean(data)\n",
    "median_value = np.median(data)\n",
    "print(\"Mean: \", mean_value, \"Miles\")\n",
    "print(\"Median: \", median_value, \"Miles\")\n",
    "print(\"There is no Mode.\")\n"
   ]
  },
  {
   "cell_type": "markdown",
   "metadata": {},
   "source": [
    "- b\n",
    "There is no mode indicates that there is no duplicate number in the data, and the mean value is larger than median indicates that the second half data is larger than the first half."
   ]
  },
  {
   "cell_type": "markdown",
   "metadata": {},
   "source": [
    "### 4.11\n",
    "- a"
   ]
  },
  {
   "cell_type": "code",
   "execution_count": 4,
   "metadata": {},
   "outputs": [
    {
     "name": "stdout",
     "output_type": "stream",
     "text": [
      "The rate of return for each year:\n",
      "Year 1 : -16.666666666666664 %\n",
      "Year 2 : 16.666666666666664 %\n",
      "Year 3 : 25.0 %\n",
      "Year 4 : 83.33333333333334 %\n",
      "Year 5 : 150.0 %\n",
      "Year 6 : 108.33333333333333 %\n"
     ]
    }
   ],
   "source": [
    "price = np.array([10, 14, 15, 22, 30, 25])\n",
    "buying_price = 12\n",
    "rate = np.zeros(6)\n",
    "\n",
    "print(\"The rate of return for each year:\")\n",
    "\n",
    "for i in range(int(np.size(price))):\n",
    "    rate[i] = (price[i] - buying_price) / buying_price\n",
    "    print(\"Year\", i+1, \":\", rate[i]*100, \"%\")"
   ]
  },
  {
   "cell_type": "markdown",
   "metadata": {},
   "source": [
    "- b"
   ]
  },
  {
   "cell_type": "code",
   "execution_count": 5,
   "metadata": {},
   "outputs": [
    {
     "name": "stdout",
     "output_type": "stream",
     "text": [
      "Mean of rates of return:  61.111111111111114 %\n",
      "Median of rates of return:  54.16666666666667 %\n"
     ]
    }
   ],
   "source": [
    "mean_value = np.mean(rate)\n",
    "median_value = np.median(rate)\n",
    "print(\"Mean of rates of return: \", mean_value*100, \"%\")\n",
    "print(\"Median of rates of return: \",median_value*100, \"%\")"
   ]
  },
  {
   "cell_type": "markdown",
   "metadata": {},
   "source": [
    "- c"
   ]
  },
  {
   "cell_type": "code",
   "execution_count": 6,
   "metadata": {},
   "outputs": [
    {
     "name": "stdout",
     "output_type": "stream",
     "text": [
      "Geometric mean of rates of return:  50.46516317384848 %\n"
     ]
    }
   ],
   "source": [
    "def geomean(rate):\n",
    "    rate_1 = rate + 1\n",
    "    geo_m = math.exp(np.log(rate_1).mean()) - 1\n",
    "    return geo_m\n",
    "\n",
    "geomean_value = geomean(rate)\n",
    "print(\"Geometric mean of rates of return: \",geomean_value*100, \"%\")"
   ]
  },
  {
   "cell_type": "markdown",
   "metadata": {},
   "source": [
    "- d\n",
    "When the data is dealing with the 'growth rate or rate of change' in variable over time, the best statistic to use to describe is geometric mean. That's why we use the geometric mean here."
   ]
  },
  {
   "cell_type": "markdown",
   "metadata": {},
   "source": [
    "### 4.17\n",
    "Assume that the unit of speeds is kilometer per hour(km/hr).\n",
    "- a\n"
   ]
  },
  {
   "cell_type": "code",
   "execution_count": 7,
   "metadata": {},
   "outputs": [
    {
     "name": "stdout",
     "output_type": "stream",
     "text": [
      "Mean Value:  32.90833333333333 km/hr\n",
      "Median Value:  32.0 km/hr\n"
     ]
    }
   ],
   "source": [
    "data_4_17 = pd.read_excel('Xr04-17.xlsx')\n",
    "mean_value = np.mean(data_4_17[\"Speeds\"])\n",
    "median_value = np.median(data_4_17[\"Speeds\"]) \n",
    "## We can directly use the np function to find median and mean......\n",
    "print(\"Mean Value: \", mean_value, \"km/hr\")\n",
    "print(\"Median Value: \", median_value, \"km/hr\")"
   ]
  },
  {
   "cell_type": "markdown",
   "metadata": {},
   "source": [
    "Mean value is approximate with median value indicates that there isn't too much extreme value in the data."
   ]
  },
  {
   "cell_type": "markdown",
   "metadata": {},
   "source": [
    "### 4.31\n",
    "The sample b has the smallest amount of variation and the sample c has the largest one. We can observate the distribution of number in each sample to speculate the size of variation, since the sample c has the biggest and the smallest number among these 3 sample, as a result, we can indicate that the sample c has the largest amount of variation. We can use the same method to indicate the sample with the smallest amount of variation."
   ]
  },
  {
   "cell_type": "markdown",
   "metadata": {},
   "source": [
    "### 4.41\n",
    "Assume that the unit of distance is meter(m).\n",
    "- a\n"
   ]
  },
  {
   "cell_type": "code",
   "execution_count": 8,
   "metadata": {},
   "outputs": [
    {
     "name": "stdout",
     "output_type": "stream",
     "text": [
      "Variance for Punter 1 =  40.215918367346944 m\n",
      "Variance for Punter 2 =  14.806530612244899 m\n",
      "Variance for Punter 3 =  3.6330612244897966 m\n",
      "Standard Deviation for Punter 1 =  6.341602192454754 m\n",
      "Standard Deviation for Punter 2 =  3.8479254946327766 m\n",
      "Standard Deviation for Punter 3 =  1.9060590821088932 m\n"
     ]
    }
   ],
   "source": [
    "data_4_41 = pd.read_excel('Xr04-41.xlsx')\n",
    "punter1 = data_4_41['Punter 1']\n",
    "punter2 = data_4_41['Punter 2']\n",
    "punter3 = data_4_41['Punter 3']\n",
    "\n",
    "print(\"Variance for Punter 1 = \", np.std(punter1, ddof = 1)**2, \"m\")\n",
    "print(\"Variance for Punter 2 = \", np.std(punter2, ddof = 1)**2, \"m\")\n",
    "print(\"Variance for Punter 3 = \", np.std(punter3, ddof = 1)**2, \"m\")\n",
    "\n",
    "print(\"Standard Deviation for Punter 1 = \", np.std(punter1, ddof = 1), \"m\")\n",
    "print(\"Standard Deviation for Punter 2 = \", np.std(punter2, ddof = 1), \"m\")\n",
    "print(\"Standard Deviation for Punter 3 = \", np.std(punter3, ddof = 1), \"m\") # default ddof = 0 (N-0), set ddof = 1 to adjust degree of freedom\n",
    "# print(punter3.std()) # N-1\n",
    "\n",
    "# typically we use the sample std (N-1)"
   ]
  },
  {
   "cell_type": "markdown",
   "metadata": {},
   "source": [
    "- b\n",
    "\n",
    "Punter 3 is more consistent than the other two punters since its standard deviation is smaller than others; also, punter 1 is more distributed."
   ]
  },
  {
   "cell_type": "markdown",
   "metadata": {},
   "source": [
    "### 4.47\n",
    "Assume that the unit of property tax is US Dollar.\n",
    "- a"
   ]
  },
  {
   "cell_type": "code",
   "execution_count": 9,
   "metadata": {},
   "outputs": [
    {
     "name": "stdout",
     "output_type": "stream",
     "text": [
      "Mean =  1937.3162857142859 US Dollars\n",
      "Standard Deviation =  949.9909560675098 US Dollars\n"
     ]
    }
   ],
   "source": [
    "data_4_47 = pd.read_excel('Xr04-47.xlsx')\n",
    "data_4_47 = data_4_47['Property tax']\n",
    "mu = data_4_47.mean()\n",
    "std = data_4_47.std()\n",
    "\n",
    "print(\"Mean = \", data_4_47.mean(), \"US Dollars\")\n",
    "print(\"Standard Deviation = \", data_4_47.std(), \"US Dollars\")"
   ]
  },
  {
   "cell_type": "code",
   "execution_count": 10,
   "metadata": {},
   "outputs": [
    {
     "name": "stdout",
     "output_type": "stream",
     "text": [
      "The skewness is:  1.7808500868857948\n"
     ]
    }
   ],
   "source": [
    "total = 0\n",
    "for i in data_4_47:\n",
    "    total += (i - mu)**3\n",
    "    \n",
    "total = total / int(len(data_4_47))    \n",
    "skewness = total / std**3\n",
    "print(\"The skewness is: \", skewness)"
   ]
  },
  {
   "cell_type": "markdown",
   "metadata": {},
   "source": [
    "According to the skewness we calculate, this data is skewed. As a result, by the chebysheff's theorem, the rule will aply that "
   ]
  },
  {
   "cell_type": "code",
   "execution_count": 12,
   "metadata": {},
   "outputs": [
    {
     "name": "stdout",
     "output_type": "stream",
     "text": [
      "At least  0.0 % of data lie in range ( 987.325329646776 , 2887.3072417817957 ) US Dollars.\n",
      "At least  75.0 % of data lie in range ( 37.334373579266185 , 3837.2981978493053 ) US Dollars.\n",
      "At least  88.88888888888889 % of data lie in range ( -912.6565824882439 , 4787.289153916816 ) US Dollars.\n"
     ]
    }
   ],
   "source": [
    "k1 = 1\n",
    "print(\"At least \", (1 - (1 / (k1**2))) * 100 , \"% of data lie in range (\", float(np.mean(data_4_47) - k1 * np.std(data_4_47, ddof = 1)), \n",
    "      \",\", float(np.mean(data_4_47) + k1 * np.std(data_4_47, ddof = 1)), \") US Dollars.\")\n",
    "\n",
    "k2 = 2\n",
    "print(\"At least \", (1 - (1 / (k2**2))) * 100 , \"% of data lie in range (\", float(np.mean(data_4_47) - k2 * np.std(data_4_47, ddof = 1)), \n",
    "      \",\", float(np.mean(data_4_47) + k2 * np.std(data_4_47, ddof = 1)), \") US Dollars.\")\n",
    "\n",
    "k3 = 3\n",
    "print(\"At least \", (1 - (1 / (k3**2))) * 100 , \"% of data lie in range (\", float(np.mean(data_4_47) - k3 * np.std(data_4_47, ddof = 1)), \n",
    "      \",\", float(np.mean(data_4_47) + k3 * np.std(data_4_47, ddof = 1)), \") US Dollars.\")"
   ]
  },
  {
   "cell_type": "markdown",
   "metadata": {},
   "source": [
    "## All problems in the hw 3 is solved, and my answers are shown as above. Thank TAs for reading and checking my homework!"
   ]
  }
 ],
 "metadata": {
  "kernelspec": {
   "display_name": "Python 3",
   "language": "python",
   "name": "python3"
  },
  "language_info": {
   "codemirror_mode": {
    "name": "ipython",
    "version": 3
   },
   "file_extension": ".py",
   "mimetype": "text/x-python",
   "name": "python",
   "nbconvert_exporter": "python",
   "pygments_lexer": "ipython3",
   "version": "3.8.5"
  }
 },
 "nbformat": 4,
 "nbformat_minor": 4
}
