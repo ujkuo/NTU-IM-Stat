{
 "cells": [
  {
   "cell_type": "code",
   "execution_count": 8,
   "metadata": {},
   "outputs": [],
   "source": [
    "import matplotlib.pyplot as plt\n",
    "import matplotlib\n",
    "import matplotlib.font_manager as fm\n",
    "from texttable import Texttable as tt\n",
    "from matplotlib.ticker import FuncFormatter\n",
    "from matplotlib.pyplot import figure\n",
    "import pandas as pd\n",
    "import numpy as np\n",
    "import seaborn as sns ### packages below should be installed into the class_usb\n",
    "import scipy.stats as stats\n",
    "import statsmodels.api as sm\n",
    "import statsmodels.stats.api as sms\n",
    "import statsmodels.formula.api as smf"
   ]
  },
  {
   "cell_type": "code",
   "execution_count": 5,
   "metadata": {},
   "outputs": [],
   "source": [
    "data = pd.ExcelFile('Stat_2019_1_mid.xlsx')"
   ]
  },
  {
   "cell_type": "code",
   "execution_count": 3,
   "metadata": {},
   "outputs": [
    {
     "name": "stdout",
     "output_type": "stream",
     "text": [
      "                     Brand  Company  Cases \n",
      "0             Coke Classic     Coke    1183\n",
      "1               Pepsi-Cola    Pepsi    1180\n",
      "2                Diet Coke     Coke     998\n",
      "3                   Mt Dew    Pepsi     648\n",
      "4               Diet Pepsi    Pepsi     625\n",
      "5                   Sprite     Coke     580\n",
      "6               Dr. Pepper  Cadbury     574\n",
      "7  Caffeine-free Diet Coke     Coke     170\n",
      "8          Diet Dr. Pepper  Cadbury     140\n",
      "9              Sierra Mist    Pepsi     139\n"
     ]
    }
   ],
   "source": [
    "print(data)"
   ]
  },
  {
   "cell_type": "code",
   "execution_count": 6,
   "metadata": {},
   "outputs": [
    {
     "name": "stdout",
     "output_type": "stream",
     "text": [
      "                     Brand  Company  Cases \n",
      "0             Coke Classic     Coke    1183\n",
      "1               Pepsi-Cola    Pepsi    1180\n",
      "2                Diet Coke     Coke     998\n",
      "3                   Mt Dew    Pepsi     648\n",
      "4               Diet Pepsi    Pepsi     625\n",
      "5                   Sprite     Coke     580\n",
      "6               Dr. Pepper  Cadbury     574\n",
      "7  Caffeine-free Diet Coke     Coke     170\n",
      "8          Diet Dr. Pepper  Cadbury     140\n",
      "9              Sierra Mist    Pepsi     139\n"
     ]
    }
   ],
   "source": [
    "soft_drinks = pd.read_excel(data, 'Soft_drinks')\n",
    "print(soft_drinks)"
   ]
  },
  {
   "cell_type": "code",
   "execution_count": 7,
   "metadata": {},
   "outputs": [
    {
     "name": "stdout",
     "output_type": "stream",
     "text": [
      "    Customer  Type_of_Customer  Items  Net_Sales  Method_of_Payment  Age\n",
      "0          1                 1      1      39.50                  3   32\n",
      "1          2                 0      1     102.40                  1   36\n",
      "2          3                 1      1      22.50                  1   32\n",
      "3          4                 0      5     100.40                  1   28\n",
      "4          5                 1      2      54.00                  2   34\n",
      "..       ...               ...    ...        ...                ...  ...\n",
      "95        96                 1      1      39.50                  2   44\n",
      "96        97                 0      9     253.00                  1   30\n",
      "97        98                 0     10     287.59                  1   52\n",
      "98        99                 0      2      47.60                  1   30\n",
      "99       100                 0      1      28.44                  1   44\n",
      "\n",
      "[100 rows x 6 columns]\n"
     ]
    }
   ],
   "source": [
    "pelican = pd.read_excel(data, 'Pelican')\n",
    "print(pelican)"
   ]
  },
  {
   "cell_type": "code",
   "execution_count": null,
   "metadata": {},
   "outputs": [],
   "source": [
    "### codes below are copied from prof's slide\n",
    "plt.rcParams[\"figure.dpi\"] = 80\n",
    "bins_list = []\n",
    "for i in range(21):\n",
    "    if i%4 == 0 or i == 20:\n",
    "        bins_list.append(i)\n",
    "# bins_list = [0, 2, 4, 6, 8, 10, 12, 14, 16, 18, 20]\n",
    "fig, ax = plt.subplots()\n",
    "counts, bins, patches = plt.hist(data_3_5[\"Calls\"], bins=bins_list, density=False, facecolor='g', alpha=0.75)\n",
    "mu = np.mean(data_3_5[\"Calls\"])\n",
    "sigma = np.std(data_3_5[\"Calls\"])\n",
    "plt.xlabel('Amount of Calls')\n",
    "plt.ylabel('Frequency')\n",
    "plt.title('Histogram of Calls')\n",
    "# plt.text(60, .025, r'$\\mu = $', mu,'$\\sigma = $', sigma)\n",
    "plt.grid(True) # 格線顯示\n",
    "plt.xticks(bins_list)\n",
    "bin_centers = [np.mean(k) for k in zip(bins[:-1], bins[1:])]\n",
    "#ax.plot(bin_centers, counts.cumsum(), 'ro-') # show 折線\n",
    "plt.show()"
   ]
  }
 ],
 "metadata": {
  "kernelspec": {
   "display_name": "Python 3",
   "language": "python",
   "name": "python3"
  },
  "language_info": {
   "codemirror_mode": {
    "name": "ipython",
    "version": 3
   },
   "file_extension": ".py",
   "mimetype": "text/x-python",
   "name": "python",
   "nbconvert_exporter": "python",
   "pygments_lexer": "ipython3",
   "version": "3.8.5"
  }
 },
 "nbformat": 4,
 "nbformat_minor": 4
}
