{
 "cells": [
  {
   "cell_type": "markdown",
   "metadata": {},
   "source": [
    "# Stat HW06 by 郭宇杰, B07611039"
   ]
  },
  {
   "cell_type": "markdown",
   "metadata": {},
   "source": [
    "### 7.13\n",
    "- a\n",
    "\n",
    "$P(A \\ graduate \\ is \\ offered \\ fewer \\ than \\ two \\ jobs) = 0.05 + 0.43 = 0.48$\n",
    "\n",
    "- b\n",
    "\n",
    "$P(A \\ graduate \\ is \\ offered \\ more \\ than \\ one \\ job) = 0.31 + 0.21 = 0.52$"
   ]
  },
  {
   "cell_type": "markdown",
   "metadata": {},
   "source": [
    "### 7.27\n",
    "- a\n",
    "\n",
    "$P(X \\geq 20) = 0.08 + 0.05 + 0.04 + 0.04 + 0.03 + 0.03 + 0.01 = 0.28$\n",
    "\n",
    "- b\n",
    "\n",
    "$P(X = 60) = 0$\n",
    "\n",
    "- c\n",
    "\n",
    "$P(X > 50) = 0.03 + 0.01 = 0.04$\n",
    "\n",
    "- d\n",
    "\n",
    "$P(X > 100) = 0$"
   ]
  },
  {
   "cell_type": "markdown",
   "metadata": {},
   "source": [
    "### 7.35\n",
    "\n",
    "$\\mu = 0 \\times 0.01 + 1 \\times 0.20 + 2 \\times 0.25 + 3 \\times 0.25 + 4 \\times 0.2 = 2.25$\n",
    "\n",
    "$V(x) = \\sigma ^2 = \\sum (x - \\mu )^2 P(x) = 1.5875$\n",
    "\n",
    "$\\sigma = \\sqrt{\\sigma ^2} = 1.25996$"
   ]
  },
  {
   "cell_type": "markdown",
   "metadata": {},
   "source": [
    "### 7.55\n",
    "Denote the joint prabability distribution of X and Y is $P(X,Y)$.\n",
    "\n",
    "$P(0,1) = 0.04$\n",
    "$P(0,2) = 0.08$\n",
    "$P(0,3) = 0.08$\n",
    "$P(1,1) = 0.16$\n",
    "$P(1,2) = 0.32$\n",
    "$P(1,3) = 0.32$"
   ]
  },
  {
   "cell_type": "markdown",
   "metadata": {},
   "source": [
    "### 7.59\n",
    "\n",
    "- a\n",
    "\n",
    "$P(X=0, Y=2) = 0.06$\n",
    "\n",
    "- b\n",
    "\n",
    "$P(X=2, Y=0) = 0$\n",
    "\n",
    "- c\n",
    "\n",
    "$P(X \\leq 1, Y \\leq 1) = P(X=0, Y=0) + P(X=0, Y=1) + P(X=1, Y=0) + P(X=1, Y=1) = 0.67$"
   ]
  },
  {
   "cell_type": "markdown",
   "metadata": {},
   "source": [
    "### 7.79\n",
    "- a"
   ]
  },
  {
   "cell_type": "code",
   "execution_count": 1,
   "metadata": {},
   "outputs": [],
   "source": [
    "from matplotlib import pyplot as plt\n",
    "%matplotlib inline\n",
    "\n",
    "import seaborn as sns\n",
    "import pandas as pd\n",
    "import numpy as np\n",
    "import scipy.stats as stats\n",
    "import statsmodels.api as sm\n",
    "import statsmodels.stats.api as sms\n",
    "import statsmodels.formula.api as smf\n",
    "import math as math\n",
    "data = pd.read_excel('Xr07-NYSE.xlsx')"
   ]
  },
  {
   "cell_type": "code",
   "execution_count": 32,
   "metadata": {},
   "outputs": [
    {
     "name": "stdout",
     "output_type": "stream",
     "text": [
      "[[0.00308993 0.00097454 0.00084356 0.00087652]\n",
      " [0.00097454 0.00138783 0.00070192 0.00085627]\n",
      " [0.00084356 0.00070192 0.0013259  0.00048737]\n",
      " [0.00087652 0.00085627 0.00048737 0.00215657]]\n",
      "Mean = 0.011631337567666477\n",
      "Standard deviation = 0.033015678439868544\n"
     ]
    }
   ],
   "source": [
    "weight = np.array([0.25, 0.25, 0.25, 0.25])\n",
    "mean = np.array([data['GE'].mean(), data['JNJ'].mean(), data['MCD'].mean(), data['MRK'].mean()])\n",
    "std = np.array([data['GE'].std(), data['JNJ'].std(), data['MCD'].std(), data['MRK'].std()])\n",
    "\n",
    "data_to_array = np.array(data[['GE', 'JNJ', 'MCD', 'MRK']]).T # transpose is necessary\n",
    "covariance = np.cov(data_to_array)\n",
    "# print(covariance)\n",
    "\n",
    "Weighted_Mean = 0\n",
    "Weighted_Covariance = 0\n",
    "for i in range(0,4):\n",
    "    Weighted_Mean += weight[i] * mean[i]\n",
    "    for j in range(0,4):\n",
    "        if i != j:\n",
    "            Weighted_Covariance += weight[i]*weight[j]*covariance[i][j]\n",
    "        else:\n",
    "            Weighted_Covariance += weight[i] * weight[i] * covariance[i][i]\n",
    "print(\"Mean =\", Weighted_Mean)\n",
    "print(\"Standard deviation =\", math.sqrt(Weighted_Covariance))"
   ]
  },
  {
   "cell_type": "markdown",
   "metadata": {},
   "source": [
    "- b"
   ]
  },
  {
   "cell_type": "code",
   "execution_count": 30,
   "metadata": {},
   "outputs": [
    {
     "name": "stdout",
     "output_type": "stream",
     "text": [
      "Mean = 0.011967230262297802\n",
      "Standard deviation = 0.030964874957958792\n"
     ]
    }
   ],
   "source": [
    "weight = np.array([0.05, 0.30, 0.40, 0.25])\n",
    "mean = np.array([data['GE'].mean(), data['JNJ'].mean(), data['MCD'].mean(), data['MRK'].mean()])\n",
    "std = np.array([data['GE'].std(), data['JNJ'].std(), data['MCD'].std(), data['MRK'].std()])\n",
    "\n",
    "data_to_array = np.array(data[['GE', 'JNJ', 'MCD', 'MRK']]).T # transpose is necessary\n",
    "covariance = np.cov(data_to_array)\n",
    "\n",
    "Weighted_Mean = 0\n",
    "Weighted_Covariance = 0\n",
    "for i in range(0,4):\n",
    "    Weighted_Mean += weight[i] * mean[i]\n",
    "    for j in range(0,4):\n",
    "        if i != j:\n",
    "            Weighted_Covariance += weight[i]*weight[j]*covariance[i][j]\n",
    "        else:\n",
    "            Weighted_Covariance += weight[i] * weight[i] * covariance[i][i]\n",
    "print(\"Mean =\", Weighted_Mean)\n",
    "print(\"Standard deviation =\", math.sqrt(Weighted_Covariance))"
   ]
  },
  {
   "cell_type": "markdown",
   "metadata": {},
   "source": [
    "- c"
   ]
  },
  {
   "cell_type": "code",
   "execution_count": 31,
   "metadata": {},
   "outputs": [
    {
     "name": "stdout",
     "output_type": "stream",
     "text": [
      "Mean = 0.012135638250193528\n",
      "Standard deviation = 0.031777252704564135\n"
     ]
    }
   ],
   "source": [
    "weight = np.array([0.10, 0.50, 0.30, 0.10])\n",
    "mean = np.array([data['GE'].mean(), data['JNJ'].mean(), data['MCD'].mean(), data['MRK'].mean()])\n",
    "std = np.array([data['GE'].std(), data['JNJ'].std(), data['MCD'].std(), data['MRK'].std()])\n",
    "\n",
    "data_to_array = np.array(data[['GE', 'JNJ', 'MCD', 'MRK']]).T # transpose is necessary\n",
    "covariance = np.cov(data_to_array)\n",
    "\n",
    "Weighted_Mean = 0\n",
    "Weighted_Covariance = 0\n",
    "for i in range(0,4):\n",
    "    Weighted_Mean += weight[i] * mean[i]\n",
    "    for j in range(0,4):\n",
    "        if i != j:\n",
    "            Weighted_Covariance += weight[i]*weight[j]*covariance[i][j]\n",
    "        else:\n",
    "            Weighted_Covariance += weight[i] * weight[i] * covariance[i][i]\n",
    "print(\"Mean =\", Weighted_Mean)\n",
    "print(\"Standard deviation =\", math.sqrt(Weighted_Covariance))"
   ]
  },
  {
   "cell_type": "markdown",
   "metadata": {},
   "source": [
    "- d\n",
    "\n",
    "The gambler investor would choose the portfolio c since it yeilds the highest expected return.\n",
    "\n",
    "- e\n",
    "\n",
    "The risk-averse investor would choose the portfolio b since it yeilds the lowest standard deviation."
   ]
  },
  {
   "cell_type": "markdown",
   "metadata": {},
   "source": [
    "### 7.89\n",
    "\n",
    "- a"
   ]
  },
  {
   "cell_type": "code",
   "execution_count": 35,
   "metadata": {},
   "outputs": [
    {
     "name": "stdout",
     "output_type": "stream",
     "text": [
      "Mean = 0.009574751246292187\n",
      "Standard deviation = 0.03527484125644567\n"
     ]
    }
   ],
   "source": [
    "data = pd.read_excel('Xr07-TSE.xlsx')\n",
    "weight = np.array([0.25, 0.25, 0.25, 0.25])\n",
    "mean = np.array([data['BMO'].mean(), data['MG'].mean(), data['POW'].mean(), data['RCL.B'].mean()])\n",
    "std = np.array([data['BMO'].std(), data['MG'].std(), data['POW'].std(), data['RCL.B'].std()])\n",
    "\n",
    "data_to_transpose_array = np.array(data[['BMO', 'MG', 'POW', 'RCL.B']]).T\n",
    "covariance = np.cov(data_to_transpose_array)\n",
    "\n",
    "Weighted_Mean = 0\n",
    "Weighted_Covariance = 0\n",
    "for i in range(0,4):\n",
    "    Weighted_Mean += weight[i] * mean[i]\n",
    "    for j in range(0,4):\n",
    "        if i != j:\n",
    "            Weighted_Covariance += weight[i]*weight[j]*covariance[i][j]\n",
    "        else:\n",
    "            Weighted_Covariance += weight[i] * weight[i] * covariance[i][i]\n",
    "print(\"Mean =\", Weighted_Mean)\n",
    "print(\"Standard deviation =\", math.sqrt(Weighted_Covariance))"
   ]
  },
  {
   "cell_type": "markdown",
   "metadata": {},
   "source": [
    "- b"
   ]
  },
  {
   "cell_type": "code",
   "execution_count": 36,
   "metadata": {},
   "outputs": [
    {
     "name": "stdout",
     "output_type": "stream",
     "text": [
      "Mean = 0.011539453105830171\n",
      "Standard deviation = 0.054075534633113806\n"
     ]
    }
   ],
   "source": [
    "weight = np.array([0.20, 0.60, 0.10, 0.10])\n",
    "mean = np.array([data['BMO'].mean(), data['MG'].mean(), data['POW'].mean(), data['RCL.B'].mean()])\n",
    "std = np.array([data['BMO'].std(), data['MG'].std(), data['POW'].std(), data['RCL.B'].std()])\n",
    "\n",
    "data_to_transpose_array = np.array(data[['BMO', 'MG', 'POW', 'RCL.B']]).T\n",
    "covariance = np.cov(data_to_transpose_array)\n",
    "\n",
    "Weighted_Mean = 0\n",
    "Weighted_Covariance = 0\n",
    "for i in range(0,4):\n",
    "    Weighted_Mean += weight[i] * mean[i]\n",
    "    for j in range(0,4):\n",
    "        if i != j:\n",
    "            Weighted_Covariance += weight[i]*weight[j]*covariance[i][j]\n",
    "        else:\n",
    "            Weighted_Covariance += weight[i] * weight[i] * covariance[i][i]\n",
    "print(\"Mean =\", Weighted_Mean)\n",
    "print(\"Standard deviation =\", math.sqrt(Weighted_Covariance))"
   ]
  },
  {
   "cell_type": "markdown",
   "metadata": {},
   "source": [
    "- c"
   ]
  },
  {
   "cell_type": "code",
   "execution_count": 37,
   "metadata": {},
   "outputs": [
    {
     "name": "stdout",
     "output_type": "stream",
     "text": [
      "Mean = 0.009343486987801556\n",
      "Standard deviation = 0.03600705443257263\n"
     ]
    }
   ],
   "source": [
    "weight = np.array([0.10, 0.20, 0.30, 0.40])\n",
    "mean = np.array([data['BMO'].mean(), data['MG'].mean(), data['POW'].mean(), data['RCL.B'].mean()])\n",
    "std = np.array([data['BMO'].std(), data['MG'].std(), data['POW'].std(), data['RCL.B'].std()])\n",
    "\n",
    "data_to_transpose_array = np.array(data[['BMO', 'MG', 'POW', 'RCL.B']]).T\n",
    "covariance = np.cov(data_to_transpose_array)\n",
    "\n",
    "Weighted_Mean = 0\n",
    "Weighted_Covariance = 0\n",
    "for i in range(0,4):\n",
    "    Weighted_Mean += weight[i] * mean[i]\n",
    "    for j in range(0,4):\n",
    "        if i != j:\n",
    "            Weighted_Covariance += weight[i]*weight[j]*covariance[i][j]\n",
    "        else:\n",
    "            Weighted_Covariance += weight[i] * weight[i] * covariance[i][i]\n",
    "print(\"Mean =\", Weighted_Mean)\n",
    "print(\"Standard deviation =\", math.sqrt(Weighted_Covariance))"
   ]
  },
  {
   "cell_type": "markdown",
   "metadata": {},
   "source": [
    "- d\n",
    "\n",
    "The gambler investor would choose the portfolio b since it yeilds the highest expected return.\n",
    "\n",
    "- e\n",
    "\n",
    "The risk-averse investor would choose the portfolio a since it yeilds the lowest standard deviation."
   ]
  },
  {
   "cell_type": "markdown",
   "metadata": {},
   "source": [
    "### 7.109\n",
    "- a"
   ]
  },
  {
   "cell_type": "code",
   "execution_count": 2,
   "metadata": {},
   "outputs": [
    {
     "name": "stdout",
     "output_type": "stream",
     "text": [
      "P(10 or fewer customers chose the leading brand) =  0.9021999888782667\n"
     ]
    }
   ],
   "source": [
    "p = 0.3\n",
    "n = 25\n",
    "def Bernoulli(n, p, x):\n",
    "    return math.comb(n, x)*pow(p, x)*pow((1 - p), n - x)\n",
    "\n",
    "sum = 0\n",
    "for i in range(0,11):\n",
    "    sum += Bernoulli(n, p, i)\n",
    "\n",
    "print(\"P(10 or fewer customers chose the leading brand) = \", sum)"
   ]
  },
  {
   "cell_type": "markdown",
   "metadata": {},
   "source": [
    "- b"
   ]
  },
  {
   "cell_type": "code",
   "execution_count": 3,
   "metadata": {},
   "outputs": [
    {
     "name": "stdout",
     "output_type": "stream",
     "text": [
      "P(11 or more customers chose the leading brand) =  0.09780001112173185\n"
     ]
    }
   ],
   "source": [
    "sum = 0\n",
    "for i in range(11,26):\n",
    "    sum += Bernoulli(n, p, i)\n",
    "\n",
    "print(\"P(11 or more customers chose the leading brand) = \", sum)"
   ]
  },
  {
   "cell_type": "markdown",
   "metadata": {},
   "source": [
    "- c"
   ]
  },
  {
   "cell_type": "code",
   "execution_count": 5,
   "metadata": {},
   "outputs": [
    {
     "name": "stdout",
     "output_type": "stream",
     "text": [
      "P(10 customers chose the leading brand) =  0.09163601238321352\n"
     ]
    }
   ],
   "source": [
    "print(\"P(10 customers chose the leading brand) = \", Bernoulli(n, p, 10))"
   ]
  },
  {
   "cell_type": "markdown",
   "metadata": {},
   "source": [
    "### 7.127\n",
    "- a"
   ]
  },
  {
   "cell_type": "code",
   "execution_count": 6,
   "metadata": {},
   "outputs": [
    {
     "name": "stdout",
     "output_type": "stream",
     "text": [
      "P(more than half say that Congress is doing a poor or bad job) =  0.6921991139282937\n"
     ]
    }
   ],
   "source": [
    "n = 100\n",
    "p = 0.53\n",
    "sum = 0\n",
    "for i in range(1, 51):\n",
    "    sum += Bernoulli(n, p, i)\n",
    "    \n",
    "print(\"P(more than half say that Congress is doing a poor or bad job) = \", 1 - sum)"
   ]
  },
  {
   "cell_type": "markdown",
   "metadata": {},
   "source": [
    "- b"
   ]
  },
  {
   "cell_type": "code",
   "execution_count": 7,
   "metadata": {},
   "outputs": [
    {
     "name": "stdout",
     "output_type": "stream",
     "text": [
      "P(more than 60% say that Congress is doing a poor or bad job) =  0.06592297187070095\n"
     ]
    }
   ],
   "source": [
    "sum = 0\n",
    "for i in range(1, 61):\n",
    "    sum += Bernoulli(n, p, i)\n",
    "    \n",
    "print(\"P(more than 60% say that Congress is doing a poor or bad job) = \", 1 - sum)"
   ]
  },
  {
   "cell_type": "markdown",
   "metadata": {},
   "source": [
    "- c\n",
    "\n",
    "$E(X) = np = 53$(people)"
   ]
  },
  {
   "cell_type": "markdown",
   "metadata": {},
   "source": [
    "### 7.133\n",
    "- a\n"
   ]
  },
  {
   "cell_type": "code",
   "execution_count": 16,
   "metadata": {},
   "outputs": [
    {
     "name": "stdout",
     "output_type": "stream",
     "text": [
      "P(the site gets 10 or more hits in a week) =  0.03182805730620475\n"
     ]
    }
   ],
   "source": [
    "def Poison(mu, x):\n",
    "    factorial = 1\n",
    "    for i in range(1, x+1):\n",
    "        factorial *= i;\n",
    "    return math.exp(-mu) * pow(mu, x) / factorial\n",
    "\n",
    "sum = 0\n",
    "for i in range(0, 10):\n",
    "    sum += Poison(5, i)\n",
    "print(\"P(the site gets 10 or more hits in a week) = \", 1 - sum)"
   ]
  },
  {
   "cell_type": "markdown",
   "metadata": {},
   "source": [
    "- b"
   ]
  },
  {
   "cell_type": "code",
   "execution_count": 17,
   "metadata": {},
   "outputs": [
    {
     "name": "stdout",
     "output_type": "stream",
     "text": [
      "P(the site gets 20 or more hits in 2 weeks) =  0.0034543419758567007\n"
     ]
    }
   ],
   "source": [
    "sum = 0\n",
    "for i in range(0, 20):\n",
    "    sum += Poison(10, i)\n",
    "    \n",
    "print(\"P(the site gets 20 or more hits in 2 weeks) = \", 1 - sum)"
   ]
  },
  {
   "cell_type": "markdown",
   "metadata": {},
   "source": [
    "### 7.141\n",
    "- a"
   ]
  },
  {
   "cell_type": "code",
   "execution_count": 18,
   "metadata": {},
   "outputs": [
    {
     "name": "stdout",
     "output_type": "stream",
     "text": [
      "P(A golfer loses no golf balls) =  0.1353352832366127\n"
     ]
    }
   ],
   "source": [
    "print(\"P(A golfer loses no golf balls) = \", Poison(2, 0))"
   ]
  },
  {
   "cell_type": "markdown",
   "metadata": {},
   "source": [
    "- b"
   ]
  },
  {
   "cell_type": "code",
   "execution_count": 19,
   "metadata": {},
   "outputs": [
    {
     "name": "stdout",
     "output_type": "stream",
     "text": [
      "P(A golfer loses 4 or more golf balls) =  0.14287653950145285\n"
     ]
    }
   ],
   "source": [
    "sum = 0\n",
    "for i in range(0, 4):\n",
    "    sum += Poison(2, i)\n",
    "    \n",
    "print(\"P(A golfer loses 4 or more golf balls) = \", 1 - sum)"
   ]
  },
  {
   "cell_type": "markdown",
   "metadata": {},
   "source": [
    "- c"
   ]
  },
  {
   "cell_type": "code",
   "execution_count": 20,
   "metadata": {},
   "outputs": [
    {
     "name": "stdout",
     "output_type": "stream",
     "text": [
      "P(A golfer loses 2 or fewer golf balls) =  0.6766764161830635\n"
     ]
    }
   ],
   "source": [
    "sum = 0\n",
    "for i in range(0, 3):\n",
    "    sum += Poison(2, i)\n",
    "    \n",
    "print(\"P(A golfer loses 2 or fewer golf balls) = \", sum)"
   ]
  },
  {
   "cell_type": "markdown",
   "metadata": {},
   "source": [
    "## All problems in the hw 6 is solved, and my answers are shown as above. Thank TAs for reading and checking my homework!\n",
    "ps. If my homework page is still too dark to read, please inform me or check from my github repository: https://github.com/ujkuo/NTU-IM-Stat"
   ]
  }
 ],
 "metadata": {
  "kernelspec": {
   "display_name": "Python 3",
   "language": "python",
   "name": "python3"
  },
  "language_info": {
   "codemirror_mode": {
    "name": "ipython",
    "version": 3
   },
   "file_extension": ".py",
   "mimetype": "text/x-python",
   "name": "python",
   "nbconvert_exporter": "python",
   "pygments_lexer": "ipython3",
   "version": "3.8.5"
  }
 },
 "nbformat": 4,
 "nbformat_minor": 4
}
