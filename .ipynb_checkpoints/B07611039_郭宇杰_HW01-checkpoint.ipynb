{
 "cells": [
  {
   "cell_type": "markdown",
   "metadata": {},
   "source": [
    "# Stat HW01 by 郭宇杰, B07611039\n"
   ]
  },
  {
   "cell_type": "markdown",
   "metadata": {},
   "source": [
    "### 1.3\n",
    "- (a) 25,000 registered voters\n",
    "- (b) 200 registered voters interviewed\n",
    "- (c) The value 48% is a statistic, since the 200 registered interviewed voters are sample instead of population. As a result, it is not a parameter but a statistic."
   ]
  },
  {
   "cell_type": "markdown",
   "metadata": {},
   "source": [
    "### 1.6\n",
    "...OK I understand its words."
   ]
  },
  {
   "cell_type": "markdown",
   "metadata": {},
   "source": [
    "### 1.7\n",
    "- (a) If the probability of success on head or tail is not 0.5 or near 0.5, we could conclude that this coin is a biased coin since the number of heads 95 is a lot of greater than 50.\n",
    "- (b) If the probability of success on head or tail is 0.5 or near 0.5, we could conclude that this coin is an unbiased coin.\n",
    "- (c) My answer is \"NO\" since the statement says I will \"always\" observe \"exactly\" 50 heads. The use of these two words are so arrogant. I think the number from 40 to 60 is a reasonable range, but it is just a rough estimate."
   ]
  },
  {
   "cell_type": "markdown",
   "metadata": {},
   "source": [
    "### 2.5\n",
    "- (a) The age is belongs to interval data.\n",
    "- (b) The floor of residents' condominium is belongs to ordinal data.\n",
    "- (c) This is belongs to nominal data.\n",
    "- (d) This is belongs to ordinal data.\n",
    "- (e) This is belongs to nominal data."
   ]
  },
  {
   "cell_type": "markdown",
   "metadata": {},
   "source": [
    "### 2.11\n",
    "- (a) This is belongs to nominal data.\n",
    "- (b) This is belongs to interval data.\n",
    "- (c) This is belongs to ordinal data."
   ]
  },
  {
   "cell_type": "code",
   "execution_count": null,
   "metadata": {},
   "outputs": [],
   "source": []
  }
 ],
 "metadata": {
  "kernelspec": {
   "display_name": "Python 3",
   "language": "python",
   "name": "python3"
  },
  "language_info": {
   "codemirror_mode": {
    "name": "ipython",
    "version": 3
   },
   "file_extension": ".py",
   "mimetype": "text/x-python",
   "name": "python",
   "nbconvert_exporter": "python",
   "pygments_lexer": "ipython3",
   "version": "3.7.6"
  }
 },
 "nbformat": 4,
 "nbformat_minor": 4
}
