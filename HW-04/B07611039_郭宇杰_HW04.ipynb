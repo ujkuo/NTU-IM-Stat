{
 "cells": [
  {
   "cell_type": "markdown",
   "metadata": {},
   "source": [
    "# Stat HW04 by 郭宇杰, B07611039from matplotlib import pyplot as plt"
   ]
  },
  {
   "cell_type": "code",
   "execution_count": 2,
   "metadata": {},
   "outputs": [],
   "source": [
    "from matplotlib import pyplot as plt\n",
    "import seaborn as sns\n",
    "import pandas as pd\n",
    "import numpy as np\n",
    "import scipy.stats as stats\n",
    "import statsmodels.api as sm\n",
    "import statsmodels.stats.api as sms\n",
    "import statsmodels.formula.api as smf\n",
    "import math as math"
   ]
  },
  {
   "cell_type": "markdown",
   "metadata": {},
   "source": [
    "### 4.39"
   ]
  },
  {
   "cell_type": "code",
   "execution_count": 13,
   "metadata": {},
   "outputs": [
    {
     "name": "stdout",
     "output_type": "stream",
     "text": [
      "Range for Prozac cost is 25.85000000000001 dollars per 100 pills\n",
      "Variance for Prozac cost is 29.45522322222222 dollars per 100 pills\n",
      "Standard deviation for Prozac cost is 5.427266643737179 dollars per 100 pills\n"
     ]
    }
   ],
   "source": [
    "data = pd.read_excel('Xr04-39.xlsx')['Prozac']\n",
    "range_value = max(data) - min(data)\n",
    "print(\"Range for Prozac cost is\",range_value,\"dollars per 100 pills\")\n",
    "print(\"Variance for Prozac cost is\", np.std(data, ddof = 1)**2, \"dollars per 100 pills\")\n",
    "print(\"Standard deviation for Prozac cost is\", np.std(data, ddof = 1), \"dollars per 100 pills\")"
   ]
  },
  {
   "cell_type": "code",
   "execution_count": 9,
   "metadata": {},
   "outputs": [
    {
     "name": "stdout",
     "output_type": "stream",
     "text": [
      "The skewness is:  0.2758478103487947\n"
     ]
    }
   ],
   "source": [
    "mu = data.mean()\n",
    "std = data.std()\n",
    "total = 0\n",
    "for i in data:\n",
    "    total += (i - mu)**3\n",
    "    \n",
    "total = total / int(len(data))    \n",
    "skewness = total / std**3\n",
    "print(\"The skewness is: \", skewness)"
   ]
  },
  {
   "cell_type": "markdown",
   "metadata": {},
   "source": [
    "Since the data is skewed, we can use the Chebyshev theorem, at least 75% of the Prozac price lies within 2\\*std approximate equal to 10.86 dollars per 100 pills of the mean, and at least 89% of the Prozac price lies within 3\\*std approximate equal to 16.29 dollars per 100 pills of the mean"
   ]
  },
  {
   "cell_type": "markdown",
   "metadata": {},
   "source": [
    "### 4.45"
   ]
  },
  {
   "cell_type": "code",
   "execution_count": 15,
   "metadata": {},
   "outputs": [
    {
     "name": "stdout",
     "output_type": "stream",
     "text": [
      "The mean value of the time is 26.024 minutes\n",
      "The standard deviation of the time is 11.807231245191202 minutes\n"
     ]
    }
   ],
   "source": [
    "data = pd.read_excel('Xr04-45.xlsx')['Flight delay (minutes)']\n",
    "mean = data.mean()\n",
    "std = np.std(data, ddof = 1)\n",
    "print(\"The mean value of the time is\",mean,\"minutes\")\n",
    "print(\"The standard deviation of the time is\",std,\"minutes\")"
   ]
  },
  {
   "cell_type": "markdown",
   "metadata": {},
   "source": [
    "Since the distribution is approximately bell shaped, according to the empirical rule, 68% observations lies within the range $(\\bar x - s, \\bar x + s)$, that is (14.27, 27.84). In addition, 95% obsercations lies within the range $(\\bar x - 2s, \\bar x + 2s)$ and 99.7% obsercations lies within the range $(\\bar x - 3s, \\bar x + 3s)$, which is (-0.56,46.64) and (-7.2, 59.28) respectively."
   ]
  },
  {
   "cell_type": "markdown",
   "metadata": {},
   "source": [
    "### 4.61"
   ]
  },
  {
   "cell_type": "code",
   "execution_count": 4,
   "metadata": {},
   "outputs": [
    {
     "name": "stdout",
     "output_type": "stream",
     "text": [
      "The first quartile for the given data is 13.05\n",
      "The second quartile for the given data is 14.7\n",
      "The third quartile for the given data is 15.600000000000001\n"
     ]
    }
   ],
   "source": [
    "data = pd.read_excel('Xr04-61.xlsx')['X']\n",
    "\n",
    "### Use the function written by Prof.\n",
    "\n",
    "def percentile(data1, p):\n",
    "    if type(data1) == np.ndarray:        \n",
    "        alldata = data1.copy()\n",
    "        data1 = data1.copy()\n",
    "    else:\n",
    "        alldata = data1.values.copy()\n",
    "        data1 = data1.values.copy()\n",
    "    alldata.sort()\n",
    "    n = alldata.size\n",
    "    l = (n + 1) * p / 100 - 1\n",
    "    f_l = math.floor(l)\n",
    "    c_l = math.ceil(l)\n",
    "    percentile_v = alldata[f_l] + (alldata[c_l] - alldata[f_l]) * (l - f_l)\n",
    "    return percentile_v\n",
    "\n",
    "L_25 = percentile(data, 25)\n",
    "L_50 = percentile(data, 50)\n",
    "L_75 = percentile(data, 75)\n",
    "print(\"The first quartile for the given data is\",L_25)\n",
    "print(\"The second quartile for the given data is\",L_50)\n",
    "print(\"The third quartile for the given data is\",L_75)"
   ]
  },
  {
   "cell_type": "markdown",
   "metadata": {},
   "source": [
    "### 4.63"
   ]
  },
  {
   "cell_type": "code",
   "execution_count": 18,
   "metadata": {},
   "outputs": [
    {
     "name": "stdout",
     "output_type": "stream",
     "text": [
      "The interquartile range for the given data is 2.5500000000000007\n"
     ]
    }
   ],
   "source": [
    "print(\"The interquartile range for the given data is\", L_75 - L_25)"
   ]
  },
  {
   "cell_type": "markdown",
   "metadata": {},
   "source": [
    "### 4.69\n",
    "Assume that the unit of the given data is dollar."
   ]
  },
  {
   "cell_type": "code",
   "execution_count": 29,
   "metadata": {},
   "outputs": [
    {
     "name": "stdout",
     "output_type": "stream",
     "text": [
      "The cost of dog owners :\n",
      "The first quartile for the cost of dog owners is 1097.5 dollars\n",
      "The second quartile for the cost of dog owners is 1204.0 dollars\n",
      "The third quartile for the cost of dog owners is 1337.0 dollars\n",
      "The interquartile range for the cost of dog owners is 239.5 dollars\n",
      "The midhinge for the cost of dog owners is 1217.25 dollars\n",
      "\n",
      "\n",
      "The cost of cat owners :\n",
      "The first quartile for the cost of cat owners is 771.5 dollars\n",
      "The second quartile for the cost of cat owners is 844.0 dollars\n",
      "The third quartile for the cost of cat owners is 991.0 dollars\n",
      "The interquartile range for the cost of cat owners is 219.5 dollars\n",
      "The midhinge for the cost of cat owners is 881.25 dollars\n"
     ]
    }
   ],
   "source": [
    "data = pd.read_excel('Xr04-69.xlsx')\n",
    "# print(data['Cats'])\n",
    "\n",
    "L_25_dog = percentile(data['Dogs'], 25)\n",
    "L_50_dog = percentile(data['Dogs'], 50)\n",
    "L_75_dog = percentile(data['Dogs'], 75)\n",
    "\n",
    "L_25_cat = percentile(data.iloc[1:55, 1], 25)\n",
    "L_50_cat = percentile(data.iloc[1:55, 1], 50)\n",
    "L_75_cat = percentile(data.iloc[1:55, 1], 75)\n",
    "\n",
    "print(\"The cost of dog owners :\")\n",
    "print(\"The first quartile for the cost of dog owners is\", L_25_dog, \"dollars\")\n",
    "print(\"The second quartile for the cost of dog owners is\", L_50_dog, \"dollars\")\n",
    "print(\"The third quartile for the cost of dog owners is\", L_75_dog, \"dollars\")\n",
    "print(\"The interquartile range for the cost of dog owners is\", L_75_dog - L_25_dog, \"dollars\")\n",
    "print(\"The midhinge for the cost of dog owners is\", (L_25_dog + L_75_dog) / 2,\"dollars\")\n",
    "print(\"\\n\")\n",
    "\n",
    "print(\"The cost of cat owners :\")\n",
    "print(\"The first quartile for the cost of cat owners is\", L_25_cat, \"dollars\")\n",
    "print(\"The second quartile for the cost of cat owners is\", L_50_cat, \"dollars\")\n",
    "print(\"The third quartile for the cost of cat owners is\", L_75_cat, \"dollars\")\n",
    "print(\"The interquartile range for the cost of cat owners is\", L_75_cat - L_25_cat, \"dollars\")\n",
    "print(\"The midhinge for the cost of cat owners is\", (L_25_cat + L_75_cat) / 2,\"dollars\")\n"
   ]
  },
  {
   "cell_type": "markdown",
   "metadata": {},
   "source": [
    "Since the IQR of the cost of cat owners is smaller that the IQR of the cost of dog owners, we can say thay the data of the cost of cat owner is more concerntrated. And based on the each quartile for the cost, we can find that dog owners spend more money that cat owners."
   ]
  },
  {
   "cell_type": "markdown",
   "metadata": {},
   "source": [
    "### 4.73\n",
    "Assume that the unit of the given data is minute."
   ]
  },
  {
   "cell_type": "code",
   "execution_count": 8,
   "metadata": {},
   "outputs": [
    {
     "name": "stdout",
     "output_type": "stream",
     "text": [
      "The amount of time taken for private course:\n",
      "The first quartile for the amount of time taken for private course is 228.0 minutes\n",
      "The second quartile for the amount of time taken for private course is 237.0 minutes\n",
      "The third quartile for the amount of time taken for private course is 245.75 minutes\n",
      "The interquartile range for the amount of time taken for private course is 17.75 minutes\n",
      "\n",
      "\n",
      "The amount of time taken for public course:\n",
      "The first quartile for the amount of time taken for public course is 279.0 minutes\n",
      "The second quartile for the amount of time taken for public course is 296.5 minutes\n",
      "The third quartile for the amount of time taken for public course is 307.0 minutes\n",
      "The interquartile range for the amount of time taken for public course is 28.0 minutes\n",
      "\n",
      "\n"
     ]
    }
   ],
   "source": [
    "data = pd.read_excel('Xr04-73.xlsx')\n",
    "\n",
    "firstQ_private = percentile(data['Private'], 25)\n",
    "secondQ_private = percentile(data['Private'], 50)\n",
    "thirdQ_private = percentile(data['Private'], 75)\n",
    "\n",
    "firstQ_public = percentile(data.iloc[1:103, 1], 25)\n",
    "secondQ_public = percentile(data.iloc[1:103, 1], 50)\n",
    "thirdQ_public = percentile(data.iloc[1:103, 1], 75)\n",
    "\n",
    "print(\"The amount of time taken for private course:\")\n",
    "print(\"The first quartile for the amount of time taken for private course is\", firstQ_private, \"minutes.\")\n",
    "print(\"The second quartile for the amount of time taken for private course is\", secondQ_private, \"minutes.\")\n",
    "print(\"The third quartile for the amount of time taken for private course is\", thirdQ_private, \"minutes.\")\n",
    "print(\"The interquartile range for the amount of time taken for private course is\", thirdQ_private - firstQ_private, \"minutes.\")\n",
    "print(\"\\n\")\n",
    "\n",
    "print(\"The amount of time taken for public course:\")\n",
    "print(\"The first quartile for the amount of time taken for public course is\", firstQ_public, \"minutes.\")\n",
    "print(\"The second quartile for the amount of time taken for public course is\", secondQ_public, \"minutes.\")\n",
    "print(\"The third quartile for the amount of time taken for public course is\", thirdQ_public, \"minutes.\")\n",
    "print(\"The interquartile range for the amount of time taken for public course is\", thirdQ_public - firstQ_public, \"minutes.\")\n",
    "print(\"\\n\")\n"
   ]
  },
  {
   "cell_type": "markdown",
   "metadata": {},
   "source": [
    "Since the second quartile for the amount of time taken for private course is less than public's one, we can say that the amount of time taken for public courses is larger than the private courses."
   ]
  },
  {
   "cell_type": "markdown",
   "metadata": {},
   "source": [
    "### 4.91\n",
    "Assume that the unit of price of oil is dollar, and the unit of oil wells is thousand wells."
   ]
  },
  {
   "cell_type": "code",
   "execution_count": 14,
   "metadata": {},
   "outputs": [
    {
     "name": "stdout",
     "output_type": "stream",
     "text": [
      "The covariance matrix is \n",
      " [[ 469.62162871   23.02331203]\n",
      " [  23.02331203 2762.31563042]]\n",
      "The correlation matrix is \n",
      " [[1.         0.02021423]\n",
      " [0.02021423 1.        ]]\n",
      "\n",
      "\n",
      "The covariance of price of oil and oil wells is 23.023312030075186\n",
      "The coefficient of correlation of price of oil and oil wells is 0.020214225390231145\n"
     ]
    }
   ],
   "source": [
    "data = pd.read_excel('Xr04-91.xlsx')\n",
    "\n",
    "covariance = np.cov(data[['Price of Oil', 'Oil Wells']].values, rowvar = False)\n",
    "correlation = np.corrcoef(data[['Price of Oil', 'Oil Wells']].values, rowvar = False)\n",
    "\n",
    "print(\"The covariance matrix is \\n\", covariance)\n",
    "print(\"The correlation matrix is \\n\", correlation)\n",
    "print(\"\\n\")\n",
    "\n",
    "print(\"The covariance of price of oil and oil wells is\", covariance[0][1])\n",
    "print(\"The coefficient of correlation of price of oil and oil wells is\", correlation[0][1])"
   ]
  },
  {
   "cell_type": "markdown",
   "metadata": {},
   "source": [
    "The covariance of given data indicate that price of oil and oil wells are positively related, and the coefficient of correlation of given data shows that there is a very week positive linear relationship between price of oil and oil wells."
   ]
  },
  {
   "cell_type": "markdown",
   "metadata": {},
   "source": [
    "### 4.99\n",
    "Assume that the unit of age is year, and the unit of carbon monoxide is ppm."
   ]
  },
  {
   "cell_type": "code",
   "execution_count": 15,
   "metadata": {},
   "outputs": [
    {
     "name": "stdout",
     "output_type": "stream",
     "text": [
      "The covariance matrix is \n",
      " [[103.62939168  32.85010242]\n",
      " [ 32.85010242  18.43703631]]\n",
      "The correlation matrix is \n",
      " [[1.         0.75153584]\n",
      " [0.75153584 1.        ]]\n",
      "\n",
      "\n",
      "The covariance of age and carbon monoxide is 32.85010242085662\n",
      "The coefficient of correlation of age and carbon monoxide is 0.7515358426563699\n"
     ]
    }
   ],
   "source": [
    "data = pd.read_excel('Xr04-99.xlsx')\n",
    "\n",
    "covariance = np.cov(data[['Age', 'Carbon monoxide']].values, rowvar = False)\n",
    "correlation = np.corrcoef(data[['Age', 'Carbon monoxide']].values, rowvar = False)\n",
    "\n",
    "print(\"The covariance matrix is \\n\", covariance)\n",
    "print(\"The correlation matrix is \\n\", correlation)\n",
    "print(\"\\n\")\n",
    "\n",
    "print(\"The covariance of age and carbon monoxide is\", covariance[0][1])\n",
    "print(\"The coefficient of correlation of age and carbon monoxide is\", correlation[0][1])"
   ]
  },
  {
   "cell_type": "markdown",
   "metadata": {},
   "source": [
    "The covariance of given data indicate that age and carbon monoxide are positively related, and the coefficient of correlation of given data shows that there is a very strong positive linear relationship between age and carbon monoxide."
   ]
  },
  {
   "cell_type": "markdown",
   "metadata": {},
   "source": [
    "### 6.7\n",
    "- a\n",
    "$P(Adams loses) = 1 - P(Adams wins) = 1 - 0.42 = 0.58$\n",
    "- b\n",
    "$P(Brown wins or Dalton wins) = P(Brown wins) + P(Dalton wins) = 0.09 + 0.22 = 0.31$\n",
    "- c \n",
    "$P(Adams, Brown or Collins wins) = P(Adams wins) + P(Brown wins) + P(Collins wins) = 0.42 + 0.09 + 0.27 = 0.78$"
   ]
  },
  {
   "cell_type": "markdown",
   "metadata": {},
   "source": [
    "### 6.11\n",
    "- a\n",
    "The sample space for this experiment is $S = \\{cash, credit card, debit card \\} $\n",
    "- b \n",
    "$P(cash) = 0.3, P(credit card) = 0.6, P(debit card) = 0.1$\n",
    "- c\n",
    "Subjective approach or relative frequency approach, since the statement doesn't tell us how it estimates th proprietor."
   ]
  },
  {
   "cell_type": "markdown",
   "metadata": {},
   "source": [
    "## All problems in the hw 4 is solved, and my answers are shown as above. Thank TAs for reading and checking my homework!\n",
    "ps. If my homework page is still too dark to read, please inform me or check from my github repository: https://github.com/ujkuo/NTU-IM-Stat"
   ]
  }
 ],
 "metadata": {
  "kernelspec": {
   "display_name": "Python 3",
   "language": "python",
   "name": "python3"
  },
  "language_info": {
   "codemirror_mode": {
    "name": "ipython",
    "version": 3
   },
   "file_extension": ".py",
   "mimetype": "text/x-python",
   "name": "python",
   "nbconvert_exporter": "python",
   "pygments_lexer": "ipython3",
   "version": "3.8.5"
  }
 },
 "nbformat": 4,
 "nbformat_minor": 4
}
